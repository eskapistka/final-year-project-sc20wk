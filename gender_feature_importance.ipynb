{
 "cells": [
  {
   "cell_type": "markdown",
   "metadata": {},
   "source": [
    "<h3>Feature importance by gender</h3>"
   ]
  },
  {
   "cell_type": "markdown",
   "metadata": {},
   "source": [
    "<h5>Load the dataset</h5>"
   ]
  },
  {
   "cell_type": "code",
   "execution_count": 530,
   "metadata": {},
   "outputs": [],
   "source": [
    "import pandas as pd\n",
    "import numpy as np\n",
    "import matplotlib.pyplot as plt\n",
    "import seaborn as sns\n",
    "from sklearn.feature_selection import SelectKBest, chi2, mutual_info_classif, RFE\n",
    "from sklearn.model_selection import GridSearchCV, train_test_split\n",
    "from sklearn.ensemble import RandomForestClassifier, AdaBoostClassifier\n",
    "from sklearn.neighbors import KNeighborsClassifier\n",
    "from sklearn.linear_model import LogisticRegression\n",
    "from imblearn.over_sampling import ADASYN\n",
    "from sklearn.inspection import permutation_importance\n",
    "from sklearn.metrics import accuracy_score, precision_score, recall_score, f1_score, roc_auc_score\n",
    "from sklearn.metrics import confusion_matrix, ConfusionMatrixDisplay\n",
    "from sklearn.svm import SVC\n",
    "\n",
    "# load adhd dataset\n",
    "df = pd.read_csv('questionnaire_dataset.csv', sep=';')\n",
    "feature_cols = desired_columns = ['gender', 'group'] + [f'tr{i}' for i in range(1, 44)] + [f'dass{i}' for i in range(1, 22)]\n",
    "df = df[feature_cols].copy()"
   ]
  },
  {
   "cell_type": "markdown",
   "metadata": {},
   "source": [
    "<h5>Screening questionnaire based on previous analysis</h5>"
   ]
  },
  {
   "cell_type": "code",
   "execution_count": 531,
   "metadata": {},
   "outputs": [
    {
     "data": {
      "text/html": [
       "<div>\n",
       "<style scoped>\n",
       "    .dataframe tbody tr th:only-of-type {\n",
       "        vertical-align: middle;\n",
       "    }\n",
       "\n",
       "    .dataframe tbody tr th {\n",
       "        vertical-align: top;\n",
       "    }\n",
       "\n",
       "    .dataframe thead th {\n",
       "        text-align: right;\n",
       "    }\n",
       "</style>\n",
       "<table border=\"1\" class=\"dataframe\">\n",
       "  <thead>\n",
       "    <tr style=\"text-align: right;\">\n",
       "      <th></th>\n",
       "      <th>Critère DSM-5</th>\n",
       "      <th>English Item (Author's suggestion)</th>\n",
       "      <th>question_code</th>\n",
       "      <th>dsm5_criteria</th>\n",
       "      <th>symptom_category</th>\n",
       "    </tr>\n",
       "  </thead>\n",
       "  <tbody>\n",
       "    <tr>\n",
       "      <th>0</th>\n",
       "      <td>B</td>\n",
       "      <td>I have trouble maintaining my attention at work.</td>\n",
       "      <td>tr4</td>\n",
       "      <td>Often has difficulty sustaining attention in t...</td>\n",
       "      <td>inattention</td>\n",
       "    </tr>\n",
       "    <tr>\n",
       "      <th>1</th>\n",
       "      <td>B</td>\n",
       "      <td>I have trouble staying focused during conversa...</td>\n",
       "      <td>tr6</td>\n",
       "      <td>Often has difficulty sustaining attention in t...</td>\n",
       "      <td>inattention</td>\n",
       "    </tr>\n",
       "    <tr>\n",
       "      <th>2</th>\n",
       "      <td>C</td>\n",
       "      <td>My mind is often elsewhere, even when there is...</td>\n",
       "      <td>tr8</td>\n",
       "      <td>Often does not seem to listen when spoken to d...</td>\n",
       "      <td>inattention</td>\n",
       "    </tr>\n",
       "    <tr>\n",
       "      <th>3</th>\n",
       "      <td>D</td>\n",
       "      <td>I have difficulty complying with instructions</td>\n",
       "      <td>tr9</td>\n",
       "      <td>Often does not follow through on instructions ...</td>\n",
       "      <td>inattention</td>\n",
       "    </tr>\n",
       "    <tr>\n",
       "      <th>4</th>\n",
       "      <td>D</td>\n",
       "      <td>I have difficulty staying focused during my ac...</td>\n",
       "      <td>tr11</td>\n",
       "      <td>Often does not follow through on instructions ...</td>\n",
       "      <td>inattention</td>\n",
       "    </tr>\n",
       "    <tr>\n",
       "      <th>5</th>\n",
       "      <td>E</td>\n",
       "      <td>My work is often messy or disorganized</td>\n",
       "      <td>tr13</td>\n",
       "      <td>Often has difficulty organizing tasks and acti...</td>\n",
       "      <td>inattention</td>\n",
       "    </tr>\n",
       "    <tr>\n",
       "      <th>6</th>\n",
       "      <td>E</td>\n",
       "      <td>It is difficult for me to organize tasks that ...</td>\n",
       "      <td>tr14</td>\n",
       "      <td>Often has difficulty organizing tasks and acti...</td>\n",
       "      <td>inattention</td>\n",
       "    </tr>\n",
       "    <tr>\n",
       "      <th>7</th>\n",
       "      <td>F</td>\n",
       "      <td>I tend to avoid tasks that require sustained m...</td>\n",
       "      <td>tr15</td>\n",
       "      <td>Often avoids, dislikes, or is reluctant to eng...</td>\n",
       "      <td>inattention</td>\n",
       "    </tr>\n",
       "    <tr>\n",
       "      <th>8</th>\n",
       "      <td>G (I)</td>\n",
       "      <td>I often lose things I need for my daily life</td>\n",
       "      <td>tr18</td>\n",
       "      <td>Often loses things necessary for tasks or acti...</td>\n",
       "      <td>inattention</td>\n",
       "    </tr>\n",
       "    <tr>\n",
       "      <th>9</th>\n",
       "      <td>G</td>\n",
       "      <td>I often lose things I need for my work</td>\n",
       "      <td>tr19</td>\n",
       "      <td>Often loses things necessary for tasks or acti...</td>\n",
       "      <td>inattention</td>\n",
       "    </tr>\n",
       "    <tr>\n",
       "      <th>10</th>\n",
       "      <td>G</td>\n",
       "      <td>I often lose things I need for my activities/l...</td>\n",
       "      <td>tr20</td>\n",
       "      <td>Often loses things necessary for tasks or acti...</td>\n",
       "      <td>inattention</td>\n",
       "    </tr>\n",
       "    <tr>\n",
       "      <th>11</th>\n",
       "      <td>H</td>\n",
       "      <td>I am easily distracted by my environment</td>\n",
       "      <td>tr21</td>\n",
       "      <td>Is often easily distracted by extraneous stimu...</td>\n",
       "      <td>inattention</td>\n",
       "    </tr>\n",
       "    <tr>\n",
       "      <th>12</th>\n",
       "      <td>b</td>\n",
       "      <td>I often leave my seat unnecessarily during a m...</td>\n",
       "      <td>tr28</td>\n",
       "      <td>Often leaves seat in situations when remaining...</td>\n",
       "      <td>hyperactivity/impulsivity</td>\n",
       "    </tr>\n",
       "    <tr>\n",
       "      <th>13</th>\n",
       "      <td>b</td>\n",
       "      <td>I often leave my seat unnecessarily at work.</td>\n",
       "      <td>tr29</td>\n",
       "      <td>Often leaves seat in situations when remaining...</td>\n",
       "      <td>hyperactivity/impulsivity</td>\n",
       "    </tr>\n",
       "    <tr>\n",
       "      <th>14</th>\n",
       "      <td>e</td>\n",
       "      <td>My entourage finds me difficult to follow.</td>\n",
       "      <td>tr34</td>\n",
       "      <td>Is often “on the go,” acting as if “driven by ...</td>\n",
       "      <td>hyperactivity/impulsivity</td>\n",
       "    </tr>\n",
       "    <tr>\n",
       "      <th>15</th>\n",
       "      <td>e</td>\n",
       "      <td>The people around me find me to be an impatien...</td>\n",
       "      <td>tr35</td>\n",
       "      <td>Is often “on the go,” acting as if “driven by ...</td>\n",
       "      <td>hyperactivity/impulsivity</td>\n",
       "    </tr>\n",
       "    <tr>\n",
       "      <th>16</th>\n",
       "      <td>g (h,f)</td>\n",
       "      <td>I find it difficult to wait my turn in a conve...</td>\n",
       "      <td>tr40</td>\n",
       "      <td>Often blurts out an answer before a question h...</td>\n",
       "      <td>hyperactivity/impulsivity</td>\n",
       "    </tr>\n",
       "  </tbody>\n",
       "</table>\n",
       "</div>"
      ],
      "text/plain": [
       "   Critère DSM-5                 English Item (Author's suggestion)  \\\n",
       "0              B   I have trouble maintaining my attention at work.   \n",
       "1              B  I have trouble staying focused during conversa...   \n",
       "2              C  My mind is often elsewhere, even when there is...   \n",
       "3              D      I have difficulty complying with instructions   \n",
       "4              D  I have difficulty staying focused during my ac...   \n",
       "5              E             My work is often messy or disorganized   \n",
       "6              E  It is difficult for me to organize tasks that ...   \n",
       "7              F  I tend to avoid tasks that require sustained m...   \n",
       "8          G (I)       I often lose things I need for my daily life   \n",
       "9              G             I often lose things I need for my work   \n",
       "10             G  I often lose things I need for my activities/l...   \n",
       "11             H           I am easily distracted by my environment   \n",
       "12             b  I often leave my seat unnecessarily during a m...   \n",
       "13             b       I often leave my seat unnecessarily at work.   \n",
       "14             e         My entourage finds me difficult to follow.   \n",
       "15             e  The people around me find me to be an impatien...   \n",
       "16       g (h,f)  I find it difficult to wait my turn in a conve...   \n",
       "\n",
       "   question_code                                      dsm5_criteria  \\\n",
       "0            tr4  Often has difficulty sustaining attention in t...   \n",
       "1            tr6  Often has difficulty sustaining attention in t...   \n",
       "2            tr8  Often does not seem to listen when spoken to d...   \n",
       "3            tr9  Often does not follow through on instructions ...   \n",
       "4           tr11  Often does not follow through on instructions ...   \n",
       "5           tr13  Often has difficulty organizing tasks and acti...   \n",
       "6           tr14  Often has difficulty organizing tasks and acti...   \n",
       "7           tr15  Often avoids, dislikes, or is reluctant to eng...   \n",
       "8           tr18  Often loses things necessary for tasks or acti...   \n",
       "9           tr19  Often loses things necessary for tasks or acti...   \n",
       "10          tr20  Often loses things necessary for tasks or acti...   \n",
       "11          tr21  Is often easily distracted by extraneous stimu...   \n",
       "12          tr28  Often leaves seat in situations when remaining...   \n",
       "13          tr29  Often leaves seat in situations when remaining...   \n",
       "14          tr34  Is often “on the go,” acting as if “driven by ...   \n",
       "15          tr35  Is often “on the go,” acting as if “driven by ...   \n",
       "16          tr40  Often blurts out an answer before a question h...   \n",
       "\n",
       "             symptom_category  \n",
       "0                 inattention  \n",
       "1                 inattention  \n",
       "2                 inattention  \n",
       "3                 inattention  \n",
       "4                 inattention  \n",
       "5                 inattention  \n",
       "6                 inattention  \n",
       "7                 inattention  \n",
       "8                 inattention  \n",
       "9                 inattention  \n",
       "10                inattention  \n",
       "11                inattention  \n",
       "12  hyperactivity/impulsivity  \n",
       "13  hyperactivity/impulsivity  \n",
       "14  hyperactivity/impulsivity  \n",
       "15  hyperactivity/impulsivity  \n",
       "16  hyperactivity/impulsivity  "
      ]
     },
     "execution_count": 531,
     "metadata": {},
     "output_type": "execute_result"
    }
   ],
   "source": [
    "# load the screening questionnaire \n",
    "screening_questions = pd.read_csv('screening_questions.csv', sep=';')\n",
    "screening_questions"
   ]
  },
  {
   "cell_type": "markdown",
   "metadata": {},
   "source": [
    "<h5>Balance the dataset using ADASYN</h5>"
   ]
  },
  {
   "cell_type": "code",
   "execution_count": 532,
   "metadata": {},
   "outputs": [
    {
     "data": {
      "text/html": [
       "<div>\n",
       "<style scoped>\n",
       "    .dataframe tbody tr th:only-of-type {\n",
       "        vertical-align: middle;\n",
       "    }\n",
       "\n",
       "    .dataframe tbody tr th {\n",
       "        vertical-align: top;\n",
       "    }\n",
       "\n",
       "    .dataframe thead th {\n",
       "        text-align: right;\n",
       "    }\n",
       "</style>\n",
       "<table border=\"1\" class=\"dataframe\">\n",
       "  <thead>\n",
       "    <tr style=\"text-align: right;\">\n",
       "      <th></th>\n",
       "      <th>gender</th>\n",
       "      <th>group</th>\n",
       "      <th>tr1</th>\n",
       "      <th>tr2</th>\n",
       "      <th>tr3</th>\n",
       "      <th>tr4</th>\n",
       "      <th>tr5</th>\n",
       "      <th>tr6</th>\n",
       "      <th>tr7</th>\n",
       "      <th>tr8</th>\n",
       "      <th>...</th>\n",
       "      <th>dass12</th>\n",
       "      <th>dass13</th>\n",
       "      <th>dass14</th>\n",
       "      <th>dass15</th>\n",
       "      <th>dass16</th>\n",
       "      <th>dass17</th>\n",
       "      <th>dass18</th>\n",
       "      <th>dass19</th>\n",
       "      <th>dass20</th>\n",
       "      <th>dass21</th>\n",
       "    </tr>\n",
       "  </thead>\n",
       "  <tbody>\n",
       "    <tr>\n",
       "      <th>count</th>\n",
       "      <td>356.000000</td>\n",
       "      <td>356.000000</td>\n",
       "      <td>356.000000</td>\n",
       "      <td>356.000000</td>\n",
       "      <td>356.000000</td>\n",
       "      <td>356.000000</td>\n",
       "      <td>356.000000</td>\n",
       "      <td>356.000000</td>\n",
       "      <td>356.000000</td>\n",
       "      <td>356.000000</td>\n",
       "      <td>...</td>\n",
       "      <td>356.000000</td>\n",
       "      <td>356.000000</td>\n",
       "      <td>356.000000</td>\n",
       "      <td>356.000000</td>\n",
       "      <td>356.000000</td>\n",
       "      <td>356.000000</td>\n",
       "      <td>356.000000</td>\n",
       "      <td>356.000000</td>\n",
       "      <td>356.000000</td>\n",
       "      <td>356.000000</td>\n",
       "    </tr>\n",
       "    <tr>\n",
       "      <th>mean</th>\n",
       "      <td>0.502809</td>\n",
       "      <td>0.483146</td>\n",
       "      <td>3.553371</td>\n",
       "      <td>3.730337</td>\n",
       "      <td>4.797753</td>\n",
       "      <td>4.446629</td>\n",
       "      <td>3.904494</td>\n",
       "      <td>3.750000</td>\n",
       "      <td>3.334270</td>\n",
       "      <td>4.280899</td>\n",
       "      <td>...</td>\n",
       "      <td>1.561798</td>\n",
       "      <td>1.435393</td>\n",
       "      <td>1.311798</td>\n",
       "      <td>1.019663</td>\n",
       "      <td>0.772472</td>\n",
       "      <td>1.429775</td>\n",
       "      <td>1.629213</td>\n",
       "      <td>1.095506</td>\n",
       "      <td>1.039326</td>\n",
       "      <td>1.205056</td>\n",
       "    </tr>\n",
       "    <tr>\n",
       "      <th>std</th>\n",
       "      <td>0.500696</td>\n",
       "      <td>0.500419</td>\n",
       "      <td>1.585130</td>\n",
       "      <td>1.523628</td>\n",
       "      <td>1.421602</td>\n",
       "      <td>1.404205</td>\n",
       "      <td>1.529754</td>\n",
       "      <td>1.670582</td>\n",
       "      <td>1.696078</td>\n",
       "      <td>1.618476</td>\n",
       "      <td>...</td>\n",
       "      <td>1.006515</td>\n",
       "      <td>0.877760</td>\n",
       "      <td>0.952965</td>\n",
       "      <td>0.971223</td>\n",
       "      <td>0.826617</td>\n",
       "      <td>1.017099</td>\n",
       "      <td>0.962766</td>\n",
       "      <td>1.049148</td>\n",
       "      <td>1.047397</td>\n",
       "      <td>1.090330</td>\n",
       "    </tr>\n",
       "    <tr>\n",
       "      <th>min</th>\n",
       "      <td>0.000000</td>\n",
       "      <td>0.000000</td>\n",
       "      <td>1.000000</td>\n",
       "      <td>1.000000</td>\n",
       "      <td>1.000000</td>\n",
       "      <td>1.000000</td>\n",
       "      <td>1.000000</td>\n",
       "      <td>1.000000</td>\n",
       "      <td>1.000000</td>\n",
       "      <td>1.000000</td>\n",
       "      <td>...</td>\n",
       "      <td>0.000000</td>\n",
       "      <td>0.000000</td>\n",
       "      <td>0.000000</td>\n",
       "      <td>0.000000</td>\n",
       "      <td>0.000000</td>\n",
       "      <td>0.000000</td>\n",
       "      <td>0.000000</td>\n",
       "      <td>0.000000</td>\n",
       "      <td>0.000000</td>\n",
       "      <td>0.000000</td>\n",
       "    </tr>\n",
       "    <tr>\n",
       "      <th>25%</th>\n",
       "      <td>0.000000</td>\n",
       "      <td>0.000000</td>\n",
       "      <td>2.000000</td>\n",
       "      <td>2.000000</td>\n",
       "      <td>4.000000</td>\n",
       "      <td>4.000000</td>\n",
       "      <td>3.000000</td>\n",
       "      <td>2.000000</td>\n",
       "      <td>2.000000</td>\n",
       "      <td>3.000000</td>\n",
       "      <td>...</td>\n",
       "      <td>1.000000</td>\n",
       "      <td>1.000000</td>\n",
       "      <td>1.000000</td>\n",
       "      <td>0.000000</td>\n",
       "      <td>0.000000</td>\n",
       "      <td>1.000000</td>\n",
       "      <td>1.000000</td>\n",
       "      <td>0.000000</td>\n",
       "      <td>0.000000</td>\n",
       "      <td>0.000000</td>\n",
       "    </tr>\n",
       "    <tr>\n",
       "      <th>50%</th>\n",
       "      <td>1.000000</td>\n",
       "      <td>0.000000</td>\n",
       "      <td>4.000000</td>\n",
       "      <td>4.000000</td>\n",
       "      <td>5.000000</td>\n",
       "      <td>5.000000</td>\n",
       "      <td>4.000000</td>\n",
       "      <td>4.000000</td>\n",
       "      <td>4.000000</td>\n",
       "      <td>5.000000</td>\n",
       "      <td>...</td>\n",
       "      <td>2.000000</td>\n",
       "      <td>1.000000</td>\n",
       "      <td>1.000000</td>\n",
       "      <td>1.000000</td>\n",
       "      <td>1.000000</td>\n",
       "      <td>1.000000</td>\n",
       "      <td>2.000000</td>\n",
       "      <td>1.000000</td>\n",
       "      <td>1.000000</td>\n",
       "      <td>1.000000</td>\n",
       "    </tr>\n",
       "    <tr>\n",
       "      <th>75%</th>\n",
       "      <td>1.000000</td>\n",
       "      <td>1.000000</td>\n",
       "      <td>5.000000</td>\n",
       "      <td>5.000000</td>\n",
       "      <td>6.000000</td>\n",
       "      <td>5.000000</td>\n",
       "      <td>5.000000</td>\n",
       "      <td>5.000000</td>\n",
       "      <td>5.000000</td>\n",
       "      <td>6.000000</td>\n",
       "      <td>...</td>\n",
       "      <td>2.000000</td>\n",
       "      <td>2.000000</td>\n",
       "      <td>2.000000</td>\n",
       "      <td>2.000000</td>\n",
       "      <td>1.000000</td>\n",
       "      <td>2.000000</td>\n",
       "      <td>2.000000</td>\n",
       "      <td>2.000000</td>\n",
       "      <td>2.000000</td>\n",
       "      <td>2.000000</td>\n",
       "    </tr>\n",
       "    <tr>\n",
       "      <th>max</th>\n",
       "      <td>1.000000</td>\n",
       "      <td>1.000000</td>\n",
       "      <td>6.000000</td>\n",
       "      <td>6.000000</td>\n",
       "      <td>6.000000</td>\n",
       "      <td>6.000000</td>\n",
       "      <td>6.000000</td>\n",
       "      <td>6.000000</td>\n",
       "      <td>6.000000</td>\n",
       "      <td>6.000000</td>\n",
       "      <td>...</td>\n",
       "      <td>3.000000</td>\n",
       "      <td>3.000000</td>\n",
       "      <td>3.000000</td>\n",
       "      <td>3.000000</td>\n",
       "      <td>3.000000</td>\n",
       "      <td>3.000000</td>\n",
       "      <td>3.000000</td>\n",
       "      <td>3.000000</td>\n",
       "      <td>3.000000</td>\n",
       "      <td>3.000000</td>\n",
       "    </tr>\n",
       "  </tbody>\n",
       "</table>\n",
       "<p>8 rows × 66 columns</p>\n",
       "</div>"
      ],
      "text/plain": [
       "           gender       group         tr1         tr2         tr3         tr4  \\\n",
       "count  356.000000  356.000000  356.000000  356.000000  356.000000  356.000000   \n",
       "mean     0.502809    0.483146    3.553371    3.730337    4.797753    4.446629   \n",
       "std      0.500696    0.500419    1.585130    1.523628    1.421602    1.404205   \n",
       "min      0.000000    0.000000    1.000000    1.000000    1.000000    1.000000   \n",
       "25%      0.000000    0.000000    2.000000    2.000000    4.000000    4.000000   \n",
       "50%      1.000000    0.000000    4.000000    4.000000    5.000000    5.000000   \n",
       "75%      1.000000    1.000000    5.000000    5.000000    6.000000    5.000000   \n",
       "max      1.000000    1.000000    6.000000    6.000000    6.000000    6.000000   \n",
       "\n",
       "              tr5         tr6         tr7         tr8  ...      dass12  \\\n",
       "count  356.000000  356.000000  356.000000  356.000000  ...  356.000000   \n",
       "mean     3.904494    3.750000    3.334270    4.280899  ...    1.561798   \n",
       "std      1.529754    1.670582    1.696078    1.618476  ...    1.006515   \n",
       "min      1.000000    1.000000    1.000000    1.000000  ...    0.000000   \n",
       "25%      3.000000    2.000000    2.000000    3.000000  ...    1.000000   \n",
       "50%      4.000000    4.000000    4.000000    5.000000  ...    2.000000   \n",
       "75%      5.000000    5.000000    5.000000    6.000000  ...    2.000000   \n",
       "max      6.000000    6.000000    6.000000    6.000000  ...    3.000000   \n",
       "\n",
       "           dass13      dass14      dass15      dass16      dass17      dass18  \\\n",
       "count  356.000000  356.000000  356.000000  356.000000  356.000000  356.000000   \n",
       "mean     1.435393    1.311798    1.019663    0.772472    1.429775    1.629213   \n",
       "std      0.877760    0.952965    0.971223    0.826617    1.017099    0.962766   \n",
       "min      0.000000    0.000000    0.000000    0.000000    0.000000    0.000000   \n",
       "25%      1.000000    1.000000    0.000000    0.000000    1.000000    1.000000   \n",
       "50%      1.000000    1.000000    1.000000    1.000000    1.000000    2.000000   \n",
       "75%      2.000000    2.000000    2.000000    1.000000    2.000000    2.000000   \n",
       "max      3.000000    3.000000    3.000000    3.000000    3.000000    3.000000   \n",
       "\n",
       "           dass19      dass20      dass21  \n",
       "count  356.000000  356.000000  356.000000  \n",
       "mean     1.095506    1.039326    1.205056  \n",
       "std      1.049148    1.047397    1.090330  \n",
       "min      0.000000    0.000000    0.000000  \n",
       "25%      0.000000    0.000000    0.000000  \n",
       "50%      1.000000    1.000000    1.000000  \n",
       "75%      2.000000    2.000000    2.000000  \n",
       "max      3.000000    3.000000    3.000000  \n",
       "\n",
       "[8 rows x 66 columns]"
      ]
     },
     "execution_count": 532,
     "metadata": {},
     "output_type": "execute_result"
    }
   ],
   "source": [
    "adasyn = ADASYN(random_state=42)\n",
    "X = df.copy().drop(columns=['gender'])\n",
    "y = df['gender'].copy() # men = 1 / women = 0\n",
    "# apply ADASYN oversampling to balance the dataset\n",
    "X_balanced, y_balanced = adasyn.fit_resample(X, y)\n",
    "balanced_df = pd.concat([y_balanced, X_balanced], axis=1)\n",
    "balanced_df.describe()"
   ]
  },
  {
   "cell_type": "markdown",
   "metadata": {},
   "source": [
    "<h5>Split the balanced dataset by gender for train, test sets</h5>"
   ]
  },
  {
   "cell_type": "code",
   "execution_count": 533,
   "metadata": {},
   "outputs": [],
   "source": [
    "# split the dataset by gender \n",
    "balanced_df_women = balanced_df[balanced_df['gender'] == 0]\n",
    "balanced_df_men = balanced_df[balanced_df['gender'] == 1]"
   ]
  },
  {
   "cell_type": "code",
   "execution_count": 534,
   "metadata": {},
   "outputs": [],
   "source": [
    "# split it further into features and target variable\n",
    "X_women = balanced_df_women.copy().drop(columns=['group', 'gender']).filter(regex='tr')\n",
    "y_women = balanced_df_women['group'].copy() # adhd = 1 / no adhd = -1\n",
    "\n",
    "X_men = balanced_df_men.copy().drop(columns=['group', 'gender']).filter(regex='tr')\n",
    "y_men = balanced_df_men['group'].copy() # adhd = 1 / no adhd = -1"
   ]
  },
  {
   "cell_type": "code",
   "execution_count": 535,
   "metadata": {},
   "outputs": [],
   "source": [
    "# further filter the features to extract only the ones in the narrowed down version of the questionnaire\n",
    "screening_qs_codes = screening_questions['question_code'].unique()\n",
    "X_women = X_women.filter(items=screening_qs_codes, axis=1)\n",
    "X_men = X_men.filter(items=screening_qs_codes, axis=1)"
   ]
  },
  {
   "cell_type": "markdown",
   "metadata": {},
   "source": [
    "<h5>Split the data further into Train, Test and Validation sets</h5>\n",
    "<p>\n",
    "Further division of the dataset into training, test and validation set is a common technique used to improve models without data leakage. \n",
    "\n",
    "The training set is used to train the model.\n",
    "The validation set is used to evaluate the performance of the model during training and fine-tune it's hyperparameters.\n",
    "\n",
    "The test set is used to evaluate the final performance of the trained model. It represents unseen data that the model hasn't encountered during training or validation. Using a test set allows for unbiased estimate of the model's performance in real-world scenario.\n",
    "</p>"
   ]
  },
  {
   "cell_type": "code",
   "execution_count": 536,
   "metadata": {},
   "outputs": [],
   "source": [
    "# stratified splitting to preserve a balanced class split according to diagnosis\n",
    "# women\n",
    "X_train_val_women, X_test_women, y_train_val_women, y_test_women = train_test_split(X_women, y_women, test_size=0.1, stratify=y_women, random_state=42) \n",
    "X_train_women, X_val_women, y_train_women, y_val_women = train_test_split(X_train_val_women, y_train_val_women, test_size=0.25, stratify=y_train_val_women, random_state=42) \n",
    "\n",
    "# men\n",
    "X_train_val_men, X_test_men, y_train_val_men, y_test_men = train_test_split(X_men, y_men, test_size=0.1, stratify=y_men, random_state=42) \n",
    "X_train_men, X_val_men, y_train_men, y_val_men = train_test_split(X_train_val_men, y_train_val_men, test_size=0.25, stratify=y_train_val_men, random_state=42) "
   ]
  },
  {
   "cell_type": "markdown",
   "metadata": {},
   "source": [
    "<h3>Logistic Regression</h3>\n",
    "<p>\n",
    "Logistic Regression is a linear model used for binary classification tasks. It models the probability that a given input belongs to a particular class using a logistic function. \n",
    "\n",
    "It requires numerical input features. Categorical features may need to be encoded. \n",
    "\n",
    "Logistic Regression outputs probabilities of class membership for each input instance. These probabilities can be thresholded to make binary predictions.\n",
    "</p>"
   ]
  },
  {
   "cell_type": "markdown",
   "metadata": {},
   "source": [
    "<h5>Logistic Regression for Women</h5>"
   ]
  },
  {
   "cell_type": "code",
   "execution_count": 537,
   "metadata": {},
   "outputs": [
    {
     "name": "stdout",
     "output_type": "stream",
     "text": [
      "Best parameters: {'C': 1, 'penalty': 'l1'}\n",
      "Feature Importances:\n",
      "Feature tr19: 1.0148912706045878\n",
      "Feature tr20: 0.6494270085076819\n",
      "Feature tr15: 0.5559566580698377\n",
      "Feature tr8: 0.5304391674450408\n",
      "Feature tr28: 0.44605418480663245\n",
      "Feature tr40: 0.31516705923220983\n",
      "Feature tr18: 0.2462545942224518\n",
      "Feature tr14: 0.22286025799238715\n",
      "Feature tr6: 0.1966890569032907\n",
      "Feature tr9: 0.16364069439389492\n",
      "Feature tr21: 0.16177753802014486\n",
      "Feature tr35: 0.12655735409054059\n",
      "Feature tr13: 0.035811275828634935\n",
      "Feature tr34: 0.016990910173965822\n",
      "Feature tr4: 0.0\n",
      "Feature tr29: 0.0\n",
      "Feature tr11: 0.0\n"
     ]
    }
   ],
   "source": [
    "# define the parameter grid for grid search\n",
    "param_grid = {\n",
    "    'penalty': ['l1', 'l2'], # l1 lasso l2 ridge\n",
    "    'C': [0.001, 0.005, 0.01, 0.05, 0.1, 0.5, 1, 5, 10, 50, 100]\n",
    "}\n",
    "logistic_reg = LogisticRegression(max_iter=1000, random_state=32, solver='liblinear')\n",
    "# perform cross-validated grid search\n",
    "grid_search = GridSearchCV(estimator=logistic_reg, param_grid=param_grid, cv=5, scoring='accuracy')\n",
    "grid_search.fit(X_train_women, y_train_women)\n",
    "# get the best parameters\n",
    "best_params = grid_search.best_params_\n",
    "print(\"Best parameters:\", best_params)\n",
    "\n",
    "# initialize Logistic Regression with best parameters\n",
    "best_logistic_reg = LogisticRegression(**best_params, solver='liblinear', max_iter=1000, random_state=32)\n",
    "\n",
    "# fit the model on the entire training set\n",
    "best_logistic_reg.fit(X_train_women, y_train_women)\n",
    "\n",
    "# extract feature importances\n",
    "feature_importances = np.abs(best_logistic_reg.coef_).sum(axis=0)\n",
    "\n",
    "print(\"Feature Importances:\")\n",
    "for importance, feature in sorted(zip(feature_importances, X_train_women.columns), reverse=True):\n",
    "    print(f\"Feature {feature}: {importance}\")"
   ]
  },
  {
   "cell_type": "code",
   "execution_count": 538,
   "metadata": {},
   "outputs": [
    {
     "name": "stdout",
     "output_type": "stream",
     "text": [
      "accuracy: 0.8\n",
      "precision: 0.7894736842105263\n",
      "recall: 0.7894736842105263\n",
      "f1: 0.7894736842105263\n",
      "roc_auc: 0.7994987468671679\n"
     ]
    }
   ],
   "source": [
    "y_pred_women = best_logistic_reg.predict(X_val_women)\n",
    "\n",
    "# compute evaluation metrics\n",
    "accuracy = accuracy_score(y_val_women, y_pred_women)\n",
    "precision = precision_score(y_val_women, y_pred_women)\n",
    "recall = recall_score(y_val_women, y_pred_women)\n",
    "f1 = f1_score(y_val_women, y_pred_women)\n",
    "roc_auc = roc_auc_score(y_val_women, y_pred_women)\n",
    "\n",
    "print(f'accuracy: {accuracy}')\n",
    "print(f'precision: {precision}')\n",
    "print(f'recall: {recall}')\n",
    "print(f'f1: {f1}')\n",
    "print(f'roc_auc: {roc_auc}')"
   ]
  },
  {
   "cell_type": "code",
   "execution_count": 539,
   "metadata": {},
   "outputs": [
    {
     "data": {
      "text/plain": [
       "<sklearn.metrics._plot.confusion_matrix.ConfusionMatrixDisplay at 0x7fcf0c0ebe80>"
      ]
     },
     "execution_count": 539,
     "metadata": {},
     "output_type": "execute_result"
    },
    {
     "data": {
      "image/png": "[encoded data removed]",
      "text/plain": [
       "<Figure size 432x288 with 2 Axes>"
      ]
     },
     "metadata": {
      "needs_background": "light"
     },
     "output_type": "display_data"
    }
   ],
   "source": [
    "conf_matrix = confusion_matrix(y_val_women, y_pred_women)\n",
    "disp = ConfusionMatrixDisplay(conf_matrix, display_labels=best_logistic_reg.classes_)\n",
    "disp.plot(cmap='Blues')"
   ]
  },
  {
   "cell_type": "markdown",
   "metadata": {},
   "source": [
    "<h5>Logistic Regression for Men</h5>"
   ]
  },
  {
   "cell_type": "code",
   "execution_count": 540,
   "metadata": {},
   "outputs": [
    {
     "name": "stdout",
     "output_type": "stream",
     "text": [
      "Best parameters: {'C': 0.5, 'penalty': 'l1'}\n",
      "Feature Importances:\n",
      "Feature tr34: 1.2549191415450704\n",
      "Feature tr9: 0.9153757738677489\n",
      "Feature tr40: 0.6154284545010529\n",
      "Feature tr35: 0.5715383395303287\n",
      "Feature tr20: 0.5638074509140043\n",
      "Feature tr6: 0.5204153885551726\n",
      "Feature tr15: 0.44101374018424444\n",
      "Feature tr18: 0.11255457345108182\n",
      "Feature tr4: 0.0511466170158001\n",
      "Feature tr28: 0.03338583849118335\n",
      "Feature tr29: 0.005406809830899119\n",
      "Feature tr8: 0.0\n",
      "Feature tr21: 0.0\n",
      "Feature tr19: 0.0\n",
      "Feature tr14: 0.0\n",
      "Feature tr13: 0.0\n",
      "Feature tr11: 0.0\n"
     ]
    }
   ],
   "source": [
    "# define the parameter grid for grid search\n",
    "param_grid = {\n",
    "    'penalty': ['l1', 'l2'], # l1 lasso l2 ridge\n",
    "    'C': [0.001, 0.005, 0.01, 0.05, 0.1, 0.5, 1, 5, 10, 50, 100]\n",
    "}\n",
    "logistic_reg = LogisticRegression(max_iter=1000, random_state=32, solver='liblinear')\n",
    "# perform cross-validated grid search\n",
    "grid_search = GridSearchCV(estimator=logistic_reg, param_grid=param_grid, cv=5, scoring='accuracy')\n",
    "grid_search.fit(X_train_men, y_train_men)\n",
    "# get the best parameters\n",
    "best_params = grid_search.best_params_\n",
    "print(\"Best parameters:\", best_params)\n",
    "\n",
    "# initialize Logistic Regression with best parameters\n",
    "best_logistic_reg = LogisticRegression(**best_params, solver='liblinear', max_iter=1000, random_state=32)\n",
    "\n",
    "# fit the model on the entire training set\n",
    "best_logistic_reg.fit(X_train_men, y_train_men)\n",
    "\n",
    "# extract feature importances\n",
    "feature_importances = np.abs(best_logistic_reg.coef_).sum(axis=0)\n",
    "\n",
    "print(\"Feature Importances:\")\n",
    "for importance, feature in sorted(zip(feature_importances, X_train_men.columns), reverse=True):\n",
    "    print(f\"Feature {feature}: {importance}\")"
   ]
  },
  {
   "cell_type": "code",
   "execution_count": 542,
   "metadata": {},
   "outputs": [
    {
     "name": "stdout",
     "output_type": "stream",
     "text": [
      "accuracy: 0.975609756097561\n",
      "precision: 0.9523809523809523\n",
      "recall: 1.0\n",
      "f1: 0.975609756097561\n",
      "roc_auc: 0.9761904761904762\n"
     ]
    }
   ],
   "source": [
    "y_pred_men = best_logistic_reg.predict(X_val_men)\n",
    "\n",
    "# compute evaluation metrics\n",
    "accuracy = accuracy_score(y_val_men, y_pred_men)\n",
    "precision = precision_score(y_val_men, y_pred_men)\n",
    "recall = recall_score(y_val_men, y_pred_men)\n",
    "f1 = f1_score(y_val_men, y_pred_men)\n",
    "roc_auc = roc_auc_score(y_val_men, y_pred_men)\n",
    "\n",
    "print(f'accuracy: {accuracy}')\n",
    "print(f'precision: {precision}')\n",
    "print(f'recall: {recall}')\n",
    "print(f'f1: {f1}')\n",
    "print(f'roc_auc: {roc_auc}')"
   ]
  },
  {
   "cell_type": "code",
   "execution_count": 543,
   "metadata": {},
   "outputs": [
    {
     "data": {
      "text/plain": [
       "<sklearn.metrics._plot.confusion_matrix.ConfusionMatrixDisplay at 0x7fcf0db07700>"
      ]
     },
     "execution_count": 543,
     "metadata": {},
     "output_type": "execute_result"
    },
    {
     "data": {
      "image/png": "[encoded data removed]",
      "text/plain": [
       "<Figure size 432x288 with 2 Axes>"
      ]
     },
     "metadata": {
      "needs_background": "light"
     },
     "output_type": "display_data"
    }
   ],
   "source": [
    "conf_matrix = confusion_matrix(y_val_men, y_pred_men)\n",
    "disp = ConfusionMatrixDisplay(conf_matrix, display_labels=best_logistic_reg.classes_)\n",
    "disp.plot(cmap='Blues')"
   ]
  },
  {
   "cell_type": "markdown",
   "metadata": {},
   "source": [
    "<h3>AdaBoost</h3>\n",
    "<p>\n",
    "AdaBoost is an ensemble learning method that combines multiple weak classifier to create a strong classifier. It iteratively trains a series of weak learners, each focusing on the instances that were misclassified by the previous ones.\n",
    "\n",
    "It can handle both numerical and categorical features. No specific preprocessing is required, but missing values may need to be handled. \n",
    "\n",
    "AdaBoost outputs class labels for classification tasks. It can also provide information about the weights assigned to each weak learner and their contribution to the final decision. \n",
    "</p>"
   ]
  },
  {
   "cell_type": "markdown",
   "metadata": {},
   "source": [
    "<h5>AdaBoost for Women</h5>"
   ]
  },
  {
   "cell_type": "code",
   "execution_count": 544,
   "metadata": {},
   "outputs": [
    {
     "name": "stdout",
     "output_type": "stream",
     "text": [
      "Best parameters: {'algorithm': 'SAMME', 'learning_rate': 0.1, 'n_estimators': 10}\n",
      "Feature Importances:\n",
      "Feature tr8: 0.5454578995808739\n",
      "Feature tr21: 0.20733814743048962\n",
      "Feature tr28: 0.15494693538168125\n",
      "Feature tr15: 0.09225701760695527\n",
      "Feature tr9: 0.0\n",
      "Feature tr6: 0.0\n",
      "Feature tr40: 0.0\n",
      "Feature tr4: 0.0\n",
      "Feature tr35: 0.0\n",
      "Feature tr34: 0.0\n",
      "Feature tr29: 0.0\n",
      "Feature tr20: 0.0\n",
      "Feature tr19: 0.0\n",
      "Feature tr18: 0.0\n",
      "Feature tr14: 0.0\n",
      "Feature tr13: 0.0\n",
      "Feature tr11: 0.0\n"
     ]
    }
   ],
   "source": [
    "param_grid = {\n",
    "    'n_estimators': [1, 2, 5, 10, 20, 30, 40, 50, 100, 200, 500],\n",
    "    'learning_rate': [0.001, 0.005, 0.01, 0.05, 0.1, 0.5, 1.0],\n",
    "    'algorithm': ['SAMME', 'SAMME.R'] \n",
    "}\n",
    "adaboost = AdaBoostClassifier(random_state=42)\n",
    "\n",
    "grid_search = GridSearchCV(estimator=adaboost, param_grid=param_grid, cv=5, scoring='accuracy')\n",
    "grid_search.fit(X_train_women, y_train_women)\n",
    "\n",
    "best_params = grid_search.best_params_\n",
    "print(\"Best parameters:\", best_params)\n",
    "\n",
    "best_adaboost = AdaBoostClassifier(**best_params, random_state=32)\n",
    "\n",
    "# fit the model on the entire training set\n",
    "best_adaboost.fit(X_train_women, y_train_women)\n",
    "\n",
    "feature_importances = best_adaboost.feature_importances_\n",
    "\n",
    "print(\"Feature Importances:\")\n",
    "for importance, feature in sorted(zip(feature_importances, X_train_women.columns), reverse=True):\n",
    "    print(f\"Feature {feature}: {importance}\")"
   ]
  },
  {
   "cell_type": "code",
   "execution_count": 545,
   "metadata": {},
   "outputs": [
    {
     "name": "stdout",
     "output_type": "stream",
     "text": [
      "accuracy: 0.65\n",
      "precision: 0.6086956521739131\n",
      "recall: 0.7368421052631579\n",
      "f1: 0.6666666666666666\n",
      "roc_auc: 0.6541353383458646\n"
     ]
    }
   ],
   "source": [
    "y_pred_women = best_adaboost.predict(X_val_women)\n",
    "\n",
    "# compute evaluation metrics\n",
    "accuracy = accuracy_score(y_val_women, y_pred_women)\n",
    "precision = precision_score(y_val_women, y_pred_women)\n",
    "recall = recall_score(y_val_women, y_pred_women)\n",
    "f1 = f1_score(y_val_women, y_pred_women)\n",
    "roc_auc = roc_auc_score(y_val_women, y_pred_women)\n",
    "\n",
    "print(f'accuracy: {accuracy}')\n",
    "print(f'precision: {precision}')\n",
    "print(f'recall: {recall}')\n",
    "print(f'f1: {f1}')\n",
    "print(f'roc_auc: {roc_auc}')"
   ]
  },
  {
   "cell_type": "code",
   "execution_count": 546,
   "metadata": {},
   "outputs": [
    {
     "data": {
      "text/plain": [
       "<sklearn.metrics._plot.confusion_matrix.ConfusionMatrixDisplay at 0x7fcf0e81dbe0>"
      ]
     },
     "execution_count": 546,
     "metadata": {},
     "output_type": "execute_result"
    },
    {
     "data": {
      "image/png": "[encoded data removed]",
      "text/plain": [
       "<Figure size 432x288 with 2 Axes>"
      ]
     },
     "metadata": {
      "needs_background": "light"
     },
     "output_type": "display_data"
    }
   ],
   "source": [
    "conf_matrix = confusion_matrix(y_val_women, y_pred_women)\n",
    "disp = ConfusionMatrixDisplay(conf_matrix, display_labels=best_adaboost.classes_)\n",
    "disp.plot(cmap='Blues')"
   ]
  },
  {
   "cell_type": "markdown",
   "metadata": {},
   "source": [
    "<h5>AdaBoost for Men</h5>"
   ]
  },
  {
   "cell_type": "code",
   "execution_count": 547,
   "metadata": {},
   "outputs": [
    {
     "name": "stdout",
     "output_type": "stream",
     "text": [
      "Best parameters: {'algorithm': 'SAMME', 'learning_rate': 0.1, 'n_estimators': 500}\n",
      "Feature Importances:\n",
      "Feature tr6: 0.3243961970320875\n",
      "Feature tr21: 0.27626472562400056\n",
      "Feature tr34: 0.13471103545459379\n",
      "Feature tr9: 0.09914362028980021\n",
      "Feature tr4: 0.0554358988839974\n",
      "Feature tr14: 0.0368726895168999\n",
      "Feature tr35: 0.033474002031280016\n",
      "Feature tr18: 0.021803015231413373\n",
      "Feature tr8: 0.01176318787518278\n",
      "Feature tr13: 0.00613562806074435\n",
      "Feature tr40: 0.0\n",
      "Feature tr29: 0.0\n",
      "Feature tr28: 0.0\n",
      "Feature tr20: 0.0\n",
      "Feature tr19: 0.0\n",
      "Feature tr15: 0.0\n",
      "Feature tr11: 0.0\n"
     ]
    }
   ],
   "source": [
    "param_grid = {\n",
    "    'n_estimators': [1, 2, 5, 10, 20, 30, 40, 50, 100, 200, 500],\n",
    "    'learning_rate': [0.001, 0.005, 0.01, 0.05, 0.1, 0.5, 1.0],\n",
    "    'algorithm': ['SAMME', 'SAMME.R'] \n",
    "}\n",
    "adaboost = AdaBoostClassifier(random_state=42)\n",
    "\n",
    "grid_search = GridSearchCV(estimator=adaboost, param_grid=param_grid, cv=5, scoring='accuracy')\n",
    "grid_search.fit(X_train_men, y_train_men)\n",
    "\n",
    "best_params = grid_search.best_params_\n",
    "print(\"Best parameters:\", best_params)\n",
    "\n",
    "best_adaboost = AdaBoostClassifier(**best_params, random_state=32)\n",
    "\n",
    "# fit the model on the entire training set\n",
    "best_adaboost.fit(X_train_men, y_train_men)\n",
    "\n",
    "feature_importances = best_adaboost.feature_importances_\n",
    "\n",
    "print(\"Feature Importances:\")\n",
    "for importance, feature in sorted(zip(feature_importances, X_train_men.columns), reverse=True):\n",
    "    print(f\"Feature {feature}: {importance}\")"
   ]
  },
  {
   "cell_type": "code",
   "execution_count": 548,
   "metadata": {},
   "outputs": [
    {
     "name": "stdout",
     "output_type": "stream",
     "text": [
      "accuracy: 0.9512195121951219\n",
      "precision: 1.0\n",
      "recall: 0.9\n",
      "f1: 0.9473684210526316\n",
      "roc_auc: 0.95\n"
     ]
    }
   ],
   "source": [
    "y_pred_men = best_adaboost.predict(X_val_men)\n",
    "\n",
    "# compute evaluation metrics\n",
    "accuracy = accuracy_score(y_val_men, y_pred_men)\n",
    "precision = precision_score(y_val_men, y_pred_men)\n",
    "recall = recall_score(y_val_men, y_pred_men)\n",
    "f1 = f1_score(y_val_men, y_pred_men)\n",
    "roc_auc = roc_auc_score(y_val_men, y_pred_men)\n",
    "\n",
    "print(f'accuracy: {accuracy}')\n",
    "print(f'precision: {precision}')\n",
    "print(f'recall: {recall}')\n",
    "print(f'f1: {f1}')\n",
    "print(f'roc_auc: {roc_auc}')"
   ]
  },
  {
   "cell_type": "code",
   "execution_count": 549,
   "metadata": {},
   "outputs": [
    {
     "data": {
      "text/plain": [
       "<sklearn.metrics._plot.confusion_matrix.ConfusionMatrixDisplay at 0x7fcf0c99ab80>"
      ]
     },
     "execution_count": 549,
     "metadata": {},
     "output_type": "execute_result"
    },
    {
     "data": {
      "image/png": "[encoded data removed]",
      "text/plain": [
       "<Figure size 432x288 with 2 Axes>"
      ]
     },
     "metadata": {
      "needs_background": "light"
     },
     "output_type": "display_data"
    }
   ],
   "source": [
    "conf_matrix = confusion_matrix(y_val_men, y_pred_men)\n",
    "disp = ConfusionMatrixDisplay(conf_matrix, display_labels=best_adaboost.classes_)\n",
    "disp.plot(cmap='Blues')"
   ]
  },
  {
   "cell_type": "markdown",
   "metadata": {},
   "source": [
    "<h3>Support Vector Machine</h3>\n",
    "<p>\n",
    "SVM is a supervised learning algorithm that constructs a hyperplane or set of hyperplanes in a high-dimensional space to separate classes. It's effective in high-dimensional spaces and for cases where the number of dimensions exceeds the number of samples. \n",
    "\n",
    "It works best with numerical input features. Feature scaling is recommended, and categorical variables may need to be encoded.\n",
    "\n",
    "SVM outputs class labels for classification tasks. It can also provide information about the separating hyperplane(s) and support vectors, which are the data points closest to the decision boundary.\n",
    "</p>"
   ]
  },
  {
   "cell_type": "markdown",
   "metadata": {},
   "source": [
    "<h5>Support Vector Machine for Women</h5>"
   ]
  },
  {
   "cell_type": "code",
   "execution_count": 550,
   "metadata": {},
   "outputs": [
    {
     "name": "stdout",
     "output_type": "stream",
     "text": [
      "Best parameters: {'C': 0.1, 'gamma': 0.01, 'kernel': 'rbf'}\n"
     ]
    },
    {
     "data": {
      "text/html": [
       "<style>#sk-container-id-47 {color: black;}#sk-container-id-47 pre{padding: 0;}#sk-container-id-47 div.sk-toggleable {background-color: white;}#sk-container-id-47 label.sk-toggleable__label {cursor: pointer;display: block;width: 100%;margin-bottom: 0;padding: 0.3em;box-sizing: border-box;text-align: center;}#sk-container-id-47 label.sk-toggleable__label-arrow:before {content: \"▸\";float: left;margin-right: 0.25em;color: #696969;}#sk-container-id-47 label.sk-toggleable__label-arrow:hover:before {color: black;}#sk-container-id-47 div.sk-estimator:hover label.sk-toggleable__label-arrow:before {color: black;}#sk-container-id-47 div.sk-toggleable__content {max-height: 0;max-width: 0;overflow: hidden;text-align: left;background-color: #f0f8ff;}#sk-container-id-47 div.sk-toggleable__content pre {margin: 0.2em;color: black;border-radius: 0.25em;background-color: #f0f8ff;}#sk-container-id-47 input.sk-toggleable__control:checked~div.sk-toggleable__content {max-height: 200px;max-width: 100%;overflow: auto;}#sk-container-id-47 input.sk-toggleable__control:checked~label.sk-toggleable__label-arrow:before {content: \"▾\";}#sk-container-id-47 div.sk-estimator input.sk-toggleable__control:checked~label.sk-toggleable__label {background-color: #d4ebff;}#sk-container-id-47 div.sk-label input.sk-toggleable__control:checked~label.sk-toggleable__label {background-color: #d4ebff;}#sk-container-id-47 input.sk-hidden--visually {border: 0;clip: rect(1px 1px 1px 1px);clip: rect(1px, 1px, 1px, 1px);height: 1px;margin: -1px;overflow: hidden;padding: 0;position: absolute;width: 1px;}#sk-container-id-47 div.sk-estimator {font-family: monospace;background-color: #f0f8ff;border: 1px dotted black;border-radius: 0.25em;box-sizing: border-box;margin-bottom: 0.5em;}#sk-container-id-47 div.sk-estimator:hover {background-color: #d4ebff;}#sk-container-id-47 div.sk-parallel-item::after {content: \"\";width: 100%;border-bottom: 1px solid gray;flex-grow: 1;}#sk-container-id-47 div.sk-label:hover label.sk-toggleable__label {background-color: #d4ebff;}#sk-container-id-47 div.sk-serial::before {content: \"\";position: absolute;border-left: 1px solid gray;box-sizing: border-box;top: 0;bottom: 0;left: 50%;z-index: 0;}#sk-container-id-47 div.sk-serial {display: flex;flex-direction: column;align-items: center;background-color: white;padding-right: 0.2em;padding-left: 0.2em;position: relative;}#sk-container-id-47 div.sk-item {position: relative;z-index: 1;}#sk-container-id-47 div.sk-parallel {display: flex;align-items: stretch;justify-content: center;background-color: white;position: relative;}#sk-container-id-47 div.sk-item::before, #sk-container-id-47 div.sk-parallel-item::before {content: \"\";position: absolute;border-left: 1px solid gray;box-sizing: border-box;top: 0;bottom: 0;left: 50%;z-index: -1;}#sk-container-id-47 div.sk-parallel-item {display: flex;flex-direction: column;z-index: 1;position: relative;background-color: white;}#sk-container-id-47 div.sk-parallel-item:first-child::after {align-self: flex-end;width: 50%;}#sk-container-id-47 div.sk-parallel-item:last-child::after {align-self: flex-start;width: 50%;}#sk-container-id-47 div.sk-parallel-item:only-child::after {width: 0;}#sk-container-id-47 div.sk-dashed-wrapped {border: 1px dashed gray;margin: 0 0.4em 0.5em 0.4em;box-sizing: border-box;padding-bottom: 0.4em;background-color: white;}#sk-container-id-47 div.sk-label label {font-family: monospace;font-weight: bold;display: inline-block;line-height: 1.2em;}#sk-container-id-47 div.sk-label-container {text-align: center;}#sk-container-id-47 div.sk-container {/* jupyter's `normalize.less` sets `[hidden] { display: none; }` but bootstrap.min.css set `[hidden] { display: none !important; }` so we also need the `!important` here to be able to override the default hidden behavior on the sphinx rendered scikit-learn.org. See: https://github.com/scikit-learn/scikit-learn/issues/21755 */display: inline-block !important;position: relative;}#sk-container-id-47 div.sk-text-repr-fallback {display: none;}</style><div id=\"sk-container-id-47\" class=\"sk-top-container\"><div class=\"sk-text-repr-fallback\"><pre>SVC(C=0.1, gamma=0.01, random_state=32)</pre><b>In a Jupyter environment, please rerun this cell to show the HTML representation or trust the notebook. <br />On GitHub, the HTML representation is unable to render, please try loading this page with nbviewer.org.</b></div><div class=\"sk-container\" hidden><div class=\"sk-item\"><div class=\"sk-estimator sk-toggleable\"><input class=\"sk-toggleable__control sk-hidden--visually\" id=\"sk-estimator-id-47\" type=\"checkbox\" checked><label for=\"sk-estimator-id-47\" class=\"sk-toggleable__label sk-toggleable__label-arrow\">SVC</label><div class=\"sk-toggleable__content\"><pre>SVC(C=0.1, gamma=0.01, random_state=32)</pre></div></div></div></div></div>"
      ],
      "text/plain": [
       "SVC(C=0.1, gamma=0.01, random_state=32)"
      ]
     },
     "execution_count": 550,
     "metadata": {},
     "output_type": "execute_result"
    }
   ],
   "source": [
    "param_grid = {\n",
    "    'C': [0.1, 1, 10, 100, 1000],  \n",
    "    'gamma': [1, 0.1, 0.01, 0.001, 0.0001], \n",
    "    'kernel': ['rbf', 'poly', 'sigmoid']\n",
    "}  \n",
    "\n",
    "svm = SVC(random_state=32)\n",
    "\n",
    "grid_search = GridSearchCV(estimator=svm, param_grid=param_grid, cv=5, scoring='accuracy')\n",
    "grid_search.fit(X_train_women, y_train_women)\n",
    "\n",
    "best_params = grid_search.best_params_\n",
    "print(\"Best parameters:\", best_params)\n",
    "\n",
    "best_svm = SVC(**best_params, random_state=32)\n",
    "\n",
    "best_svm.fit(X_train_women, y_train_women)"
   ]
  },
  {
   "cell_type": "code",
   "execution_count": 551,
   "metadata": {},
   "outputs": [
    {
     "name": "stdout",
     "output_type": "stream",
     "text": [
      "Feature tr21: 0.015966386554621802\n",
      "Feature tr9: 0.015126050420168036\n",
      "Feature tr15: 0.012605042016806688\n",
      "Feature tr14: 0.011764705882352922\n",
      "Feature tr8: 0.010924369747899131\n",
      "Feature tr4: 0.009243697478991564\n",
      "Feature tr29: 0.003361344537815092\n",
      "Feature tr40: 0.0025210084033612913\n",
      "Feature tr35: 0.001680672268907546\n",
      "Feature tr13: 0.001680672268907546\n",
      "Feature tr28: 0.001680672268907535\n",
      "Feature tr19: 0.0016806722689075237\n",
      "Feature tr18: 0.0\n",
      "Feature tr11: -1.1102230246251566e-17\n",
      "Feature tr34: -3.3306690738754695e-17\n",
      "Feature tr20: -0.0008403361344537896\n",
      "Feature tr6: -0.002521008403361369\n"
     ]
    }
   ],
   "source": [
    "perm_importance = permutation_importance(best_svm, X_train_women, y_train_women, n_repeats=10, random_state=42)\n",
    "feature_importance_scores = perm_importance.importances_mean\n",
    "for importance, feature in sorted(zip(feature_importance_scores, X_train_women.columns), reverse=True):\n",
    "    print(f\"Feature {feature}: {importance}\")"
   ]
  },
  {
   "cell_type": "code",
   "execution_count": 553,
   "metadata": {},
   "outputs": [
    {
     "name": "stdout",
     "output_type": "stream",
     "text": [
      "accuracy: 0.825\n",
      "precision: 0.7727272727272727\n",
      "recall: 0.8947368421052632\n",
      "f1: 0.8292682926829269\n",
      "roc_auc: 0.8283208020050125\n"
     ]
    }
   ],
   "source": [
    "y_pred_women = best_svm.predict(X_val_women)\n",
    "\n",
    "# compute evaluation metrics\n",
    "accuracy = accuracy_score(y_val_women, y_pred_women)\n",
    "precision = precision_score(y_val_women, y_pred_women)\n",
    "recall = recall_score(y_val_women, y_pred_women)\n",
    "f1 = f1_score(y_val_women, y_pred_women)\n",
    "roc_auc = roc_auc_score(y_val_women, y_pred_women)\n",
    "\n",
    "print(f'accuracy: {accuracy}')\n",
    "print(f'precision: {precision}')\n",
    "print(f'recall: {recall}')\n",
    "print(f'f1: {f1}')\n",
    "print(f'roc_auc: {roc_auc}')"
   ]
  },
  {
   "cell_type": "code",
   "execution_count": 528,
   "metadata": {},
   "outputs": [
    {
     "data": {
      "text/plain": [
       "<sklearn.metrics._plot.confusion_matrix.ConfusionMatrixDisplay at 0x7fcf0dafc3d0>"
      ]
     },
     "execution_count": 528,
     "metadata": {},
     "output_type": "execute_result"
    },
    {
     "data": {
      "image/png": "[encoded data removed]",
      "text/plain": [
       "<Figure size 432x288 with 2 Axes>"
      ]
     },
     "metadata": {
      "needs_background": "light"
     },
     "output_type": "display_data"
    }
   ],
   "source": [
    "conf_matrix = confusion_matrix(y_val_women, y_pred_women)\n",
    "disp = ConfusionMatrixDisplay(conf_matrix, display_labels=best_adaboost.classes_)\n",
    "disp.plot(cmap='Blues')"
   ]
  },
  {
   "cell_type": "markdown",
   "metadata": {},
   "source": [
    "<h5>Support Vector Machine for Men</h5>"
   ]
  },
  {
   "cell_type": "code",
   "execution_count": 502,
   "metadata": {},
   "outputs": [
    {
     "name": "stdout",
     "output_type": "stream",
     "text": [
      "Best parameters: {'C': 1, 'gamma': 0.01, 'kernel': 'poly'}\n"
     ]
    }
   ],
   "source": [
    "param_grid = {\n",
    "    'C': [0.1, 1, 10, 100, 1000],  \n",
    "    'gamma': [1, 0.1, 0.01, 0.001, 0.0001], \n",
    "    'kernel': ['rbf', 'poly', 'sigmoid']\n",
    "}  \n",
    "\n",
    "svm = SVC(random_state=32)\n",
    "\n",
    "grid_search = GridSearchCV(estimator=svm, param_grid=param_grid, cv=5, scoring='accuracy')\n",
    "grid_search.fit(X_train_men, y_train_men)\n",
    "\n",
    "best_params = grid_search.best_params_\n",
    "print(\"Best parameters:\", best_params)\n",
    "\n",
    "best_svm = SVC(**best_params, random_state=32)\n",
    "\n",
    "best_svm.fit(X_train_men, y_train_men)\n",
    "\n",
    "y_pred_men = best_svm.predict(X_val_men)"
   ]
  },
  {
   "cell_type": "code",
   "execution_count": 529,
   "metadata": {},
   "outputs": [
    {
     "name": "stdout",
     "output_type": "stream",
     "text": [
      "Feature tr6: 0.16416666666666663\n",
      "Feature tr34: 0.15249999999999994\n",
      "Feature tr15: 0.0991666666666666\n",
      "Feature tr9: 0.08749999999999994\n",
      "Feature tr4: 0.06666666666666661\n",
      "Feature tr35: 0.039999999999999945\n",
      "Feature tr14: 0.03666666666666661\n",
      "Feature tr13: 0.03499999999999994\n",
      "Feature tr8: 0.02999999999999995\n",
      "Feature tr29: 0.01749999999999997\n",
      "Feature tr40: 0.010833333333333283\n",
      "Feature tr21: 0.009999999999999964\n",
      "Feature tr28: 0.0058333333333333015\n",
      "Feature tr18: 0.003333333333333288\n",
      "Feature tr20: 0.002499999999999991\n",
      "Feature tr19: 0.0\n",
      "Feature tr11: 0.0\n"
     ]
    }
   ],
   "source": [
    "perm_importance = permutation_importance(best_svm, X_train_men, y_train_men, n_repeats=10, random_state=42)\n",
    "feature_importance_scores = perm_importance.importances_mean\n",
    "for importance, feature in sorted(zip(feature_importance_scores, X_train_men.columns), reverse=True):\n",
    "    print(f\"Feature {feature}: {importance}\")"
   ]
  },
  {
   "cell_type": "code",
   "execution_count": 503,
   "metadata": {},
   "outputs": [
    {
     "name": "stdout",
     "output_type": "stream",
     "text": [
      "accuracy: 0.926829268292683\n",
      "precision: 0.9047619047619048\n",
      "recall: 0.95\n",
      "f1: 0.9268292682926829\n",
      "roc_auc: 0.9273809523809523\n"
     ]
    }
   ],
   "source": [
    "y_pred_men = best_svm.predict(X_val_men)\n",
    "\n",
    "# compute evaluation metrics\n",
    "accuracy = accuracy_score(y_val_men, y_pred_men)\n",
    "precision = precision_score(y_val_men, y_pred_men)\n",
    "recall = recall_score(y_val_men, y_pred_men)\n",
    "f1 = f1_score(y_val_men, y_pred_men)\n",
    "roc_auc = roc_auc_score(y_val_men, y_pred_men)\n",
    "\n",
    "print(f'accuracy: {accuracy}')\n",
    "print(f'precision: {precision}')\n",
    "print(f'recall: {recall}')\n",
    "print(f'f1: {f1}')\n",
    "print(f'roc_auc: {roc_auc}')"
   ]
  },
  {
   "cell_type": "code",
   "execution_count": 504,
   "metadata": {},
   "outputs": [
    {
     "data": {
      "text/plain": [
       "<sklearn.metrics._plot.confusion_matrix.ConfusionMatrixDisplay at 0x7fcf0d4c4a30>"
      ]
     },
     "execution_count": 504,
     "metadata": {},
     "output_type": "execute_result"
    },
    {
     "data": {
      "image/png": "[encoded data removed]",
      "text/plain": [
       "<Figure size 432x288 with 2 Axes>"
      ]
     },
     "metadata": {
      "needs_background": "light"
     },
     "output_type": "display_data"
    }
   ],
   "source": [
    "conf_matrix = confusion_matrix(y_val_men, y_pred_men)\n",
    "disp = ConfusionMatrixDisplay(conf_matrix, display_labels=best_adaboost.classes_)\n",
    "disp.plot(cmap='Blues')"
   ]
  },
  {
   "cell_type": "markdown",
   "metadata": {},
   "source": [
    "<h3>Random Forrest</h3>\n",
    "<p>\n",
    "Random Forest is an ensemble learning method that constructs a multitude of decision trees during training and outputs the mode of the classes (classification) or the mean prediction (regression) of the individual trees.\n",
    "\n",
    "It can handle both numerical and categorical features. No specific preprocessing is required, but missing values may need to be handled.\n",
    "\n",
    "Random Forest outputs class labels for classification tasks or continuous values for regression tasks. Additionally, it can provide feature importances, which indicate the relative importance of each feature in the model.\n",
    "</p>"
   ]
  },
  {
   "cell_type": "markdown",
   "metadata": {},
   "source": [
    "<h5>Random Forrest for Women</h5>"
   ]
  },
  {
   "cell_type": "code",
   "execution_count": 505,
   "metadata": {},
   "outputs": [
    {
     "name": "stdout",
     "output_type": "stream",
     "text": [
      "Best parameters: {'criterion': 'entropy', 'max_depth': None, 'max_features': 'log2', 'min_samples_leaf': 4, 'min_samples_split': 2, 'n_estimators': 200}\n"
     ]
    },
    {
     "data": {
      "text/html": [
       "<style>#sk-container-id-43 {color: black;}#sk-container-id-43 pre{padding: 0;}#sk-container-id-43 div.sk-toggleable {background-color: white;}#sk-container-id-43 label.sk-toggleable__label {cursor: pointer;display: block;width: 100%;margin-bottom: 0;padding: 0.3em;box-sizing: border-box;text-align: center;}#sk-container-id-43 label.sk-toggleable__label-arrow:before {content: \"▸\";float: left;margin-right: 0.25em;color: #696969;}#sk-container-id-43 label.sk-toggleable__label-arrow:hover:before {color: black;}#sk-container-id-43 div.sk-estimator:hover label.sk-toggleable__label-arrow:before {color: black;}#sk-container-id-43 div.sk-toggleable__content {max-height: 0;max-width: 0;overflow: hidden;text-align: left;background-color: #f0f8ff;}#sk-container-id-43 div.sk-toggleable__content pre {margin: 0.2em;color: black;border-radius: 0.25em;background-color: #f0f8ff;}#sk-container-id-43 input.sk-toggleable__control:checked~div.sk-toggleable__content {max-height: 200px;max-width: 100%;overflow: auto;}#sk-container-id-43 input.sk-toggleable__control:checked~label.sk-toggleable__label-arrow:before {content: \"▾\";}#sk-container-id-43 div.sk-estimator input.sk-toggleable__control:checked~label.sk-toggleable__label {background-color: #d4ebff;}#sk-container-id-43 div.sk-label input.sk-toggleable__control:checked~label.sk-toggleable__label {background-color: #d4ebff;}#sk-container-id-43 input.sk-hidden--visually {border: 0;clip: rect(1px 1px 1px 1px);clip: rect(1px, 1px, 1px, 1px);height: 1px;margin: -1px;overflow: hidden;padding: 0;position: absolute;width: 1px;}#sk-container-id-43 div.sk-estimator {font-family: monospace;background-color: #f0f8ff;border: 1px dotted black;border-radius: 0.25em;box-sizing: border-box;margin-bottom: 0.5em;}#sk-container-id-43 div.sk-estimator:hover {background-color: #d4ebff;}#sk-container-id-43 div.sk-parallel-item::after {content: \"\";width: 100%;border-bottom: 1px solid gray;flex-grow: 1;}#sk-container-id-43 div.sk-label:hover label.sk-toggleable__label {background-color: #d4ebff;}#sk-container-id-43 div.sk-serial::before {content: \"\";position: absolute;border-left: 1px solid gray;box-sizing: border-box;top: 0;bottom: 0;left: 50%;z-index: 0;}#sk-container-id-43 div.sk-serial {display: flex;flex-direction: column;align-items: center;background-color: white;padding-right: 0.2em;padding-left: 0.2em;position: relative;}#sk-container-id-43 div.sk-item {position: relative;z-index: 1;}#sk-container-id-43 div.sk-parallel {display: flex;align-items: stretch;justify-content: center;background-color: white;position: relative;}#sk-container-id-43 div.sk-item::before, #sk-container-id-43 div.sk-parallel-item::before {content: \"\";position: absolute;border-left: 1px solid gray;box-sizing: border-box;top: 0;bottom: 0;left: 50%;z-index: -1;}#sk-container-id-43 div.sk-parallel-item {display: flex;flex-direction: column;z-index: 1;position: relative;background-color: white;}#sk-container-id-43 div.sk-parallel-item:first-child::after {align-self: flex-end;width: 50%;}#sk-container-id-43 div.sk-parallel-item:last-child::after {align-self: flex-start;width: 50%;}#sk-container-id-43 div.sk-parallel-item:only-child::after {width: 0;}#sk-container-id-43 div.sk-dashed-wrapped {border: 1px dashed gray;margin: 0 0.4em 0.5em 0.4em;box-sizing: border-box;padding-bottom: 0.4em;background-color: white;}#sk-container-id-43 div.sk-label label {font-family: monospace;font-weight: bold;display: inline-block;line-height: 1.2em;}#sk-container-id-43 div.sk-label-container {text-align: center;}#sk-container-id-43 div.sk-container {/* jupyter's `normalize.less` sets `[hidden] { display: none; }` but bootstrap.min.css set `[hidden] { display: none !important; }` so we also need the `!important` here to be able to override the default hidden behavior on the sphinx rendered scikit-learn.org. See: https://github.com/scikit-learn/scikit-learn/issues/21755 */display: inline-block !important;position: relative;}#sk-container-id-43 div.sk-text-repr-fallback {display: none;}</style><div id=\"sk-container-id-43\" class=\"sk-top-container\"><div class=\"sk-text-repr-fallback\"><pre>RandomForestClassifier(criterion=&#x27;entropy&#x27;, max_features=&#x27;log2&#x27;,\n",
       "                       min_samples_leaf=4, n_estimators=200, random_state=32)</pre><b>In a Jupyter environment, please rerun this cell to show the HTML representation or trust the notebook. <br />On GitHub, the HTML representation is unable to render, please try loading this page with nbviewer.org.</b></div><div class=\"sk-container\" hidden><div class=\"sk-item\"><div class=\"sk-estimator sk-toggleable\"><input class=\"sk-toggleable__control sk-hidden--visually\" id=\"sk-estimator-id-43\" type=\"checkbox\" checked><label for=\"sk-estimator-id-43\" class=\"sk-toggleable__label sk-toggleable__label-arrow\">RandomForestClassifier</label><div class=\"sk-toggleable__content\"><pre>RandomForestClassifier(criterion=&#x27;entropy&#x27;, max_features=&#x27;log2&#x27;,\n",
       "                       min_samples_leaf=4, n_estimators=200, random_state=32)</pre></div></div></div></div></div>"
      ],
      "text/plain": [
       "RandomForestClassifier(criterion='entropy', max_features='log2',\n",
       "                       min_samples_leaf=4, n_estimators=200, random_state=32)"
      ]
     },
     "execution_count": 505,
     "metadata": {},
     "output_type": "execute_result"
    }
   ],
   "source": [
    "param_grid = {\n",
    "    'n_estimators': [10, 20, 50, 100, 200],\n",
    "    'criterion': ['gini', 'entropy', 'log_loss'],\n",
    "    'max_depth': [None, 5, 10],\n",
    "    'min_samples_split': [2, 5],\n",
    "    'min_samples_leaf': [1, 2, 4],\n",
    "    'max_features': ['log2', 'sqrt']\n",
    "}\n",
    "\n",
    "rf_classifier = RandomForestClassifier(random_state=32)\n",
    "\n",
    "grid_search = GridSearchCV(estimator=rf_classifier, param_grid=param_grid, cv=5, scoring='accuracy')\n",
    "grid_search.fit(X_train_women, y_train_women)\n",
    "\n",
    "best_params = grid_search.best_params_\n",
    "print(\"Best parameters:\", best_params)\n",
    "\n",
    "best_rf_classifier = RandomForestClassifier(**best_params, random_state=32)\n",
    "\n",
    "best_rf_classifier.fit(X_train_women, y_train_women)"
   ]
  },
  {
   "cell_type": "code",
   "execution_count": 558,
   "metadata": {},
   "outputs": [
    {
     "name": "stdout",
     "output_type": "stream",
     "text": [
      "Feature tr21: 0.1966141759380472\n",
      "Feature tr6: 0.14758893816816326\n",
      "Feature tr34: 0.1113516545033256\n",
      "Feature tr40: 0.09639477739873482\n",
      "Feature tr14: 0.0691854056207095\n",
      "Feature tr15: 0.05882003565200915\n",
      "Feature tr19: 0.047988506704041985\n",
      "Feature tr18: 0.04026587800308249\n",
      "Feature tr35: 0.03871963262907963\n",
      "Feature tr28: 0.03650766151695192\n",
      "Feature tr29: 0.031585435617194665\n",
      "Feature tr4: 0.02702585795426328\n",
      "Feature tr8: 0.0254229594919308\n",
      "Feature tr9: 0.022236190761825134\n",
      "Feature tr13: 0.02127799707839991\n",
      "Feature tr11: 0.015197961428241227\n",
      "Feature tr20: 0.013816931533999438\n"
     ]
    }
   ],
   "source": [
    "feature_importances = best_rf_classifier.feature_importances_\n",
    "for importance, feature in sorted(zip(feature_importances, X_train_women.columns), reverse=True):\n",
    "    print(f\"Feature {feature}: {importance}\")"
   ]
  },
  {
   "cell_type": "code",
   "execution_count": 506,
   "metadata": {},
   "outputs": [
    {
     "name": "stdout",
     "output_type": "stream",
     "text": [
      "accuracy: 0.825\n",
      "precision: 0.8\n",
      "recall: 0.8421052631578947\n",
      "f1: 0.8205128205128205\n",
      "roc_auc: 0.8258145363408521\n"
     ]
    }
   ],
   "source": [
    "y_pred_women = best_rf_classifier.predict(X_val_women)\n",
    "\n",
    "# compute evaluation metrics\n",
    "accuracy = accuracy_score(y_val_women, y_pred_women)\n",
    "precision = precision_score(y_val_women, y_pred_women)\n",
    "recall = recall_score(y_val_women, y_pred_women)\n",
    "f1 = f1_score(y_val_women, y_pred_women)\n",
    "roc_auc = roc_auc_score(y_val_women, y_pred_women)\n",
    "\n",
    "print(f'accuracy: {accuracy}')\n",
    "print(f'precision: {precision}')\n",
    "print(f'recall: {recall}')\n",
    "print(f'f1: {f1}')\n",
    "print(f'roc_auc: {roc_auc}')"
   ]
  },
  {
   "cell_type": "code",
   "execution_count": 507,
   "metadata": {},
   "outputs": [
    {
     "data": {
      "text/plain": [
       "<sklearn.metrics._plot.confusion_matrix.ConfusionMatrixDisplay at 0x7fcf0d1136a0>"
      ]
     },
     "execution_count": 507,
     "metadata": {},
     "output_type": "execute_result"
    },
    {
     "data": {
      "image/png": "[encoded data removed]",
      "text/plain": [
       "<Figure size 432x288 with 2 Axes>"
      ]
     },
     "metadata": {
      "needs_background": "light"
     },
     "output_type": "display_data"
    }
   ],
   "source": [
    "conf_matrix = confusion_matrix(y_val_women, y_pred_women)\n",
    "disp = ConfusionMatrixDisplay(conf_matrix, display_labels=best_rf_classifier.classes_)\n",
    "disp.plot(cmap='Blues')"
   ]
  },
  {
   "cell_type": "markdown",
   "metadata": {},
   "source": [
    "<h5>Random Forrest for Men</h5>"
   ]
  },
  {
   "cell_type": "code",
   "execution_count": 508,
   "metadata": {},
   "outputs": [
    {
     "name": "stdout",
     "output_type": "stream",
     "text": [
      "Best parameters: {'criterion': 'entropy', 'max_depth': None, 'max_features': 'log2', 'min_samples_leaf': 2, 'min_samples_split': 5, 'n_estimators': 200}\n"
     ]
    },
    {
     "data": {
      "text/html": [
       "<style>#sk-container-id-44 {color: black;}#sk-container-id-44 pre{padding: 0;}#sk-container-id-44 div.sk-toggleable {background-color: white;}#sk-container-id-44 label.sk-toggleable__label {cursor: pointer;display: block;width: 100%;margin-bottom: 0;padding: 0.3em;box-sizing: border-box;text-align: center;}#sk-container-id-44 label.sk-toggleable__label-arrow:before {content: \"▸\";float: left;margin-right: 0.25em;color: #696969;}#sk-container-id-44 label.sk-toggleable__label-arrow:hover:before {color: black;}#sk-container-id-44 div.sk-estimator:hover label.sk-toggleable__label-arrow:before {color: black;}#sk-container-id-44 div.sk-toggleable__content {max-height: 0;max-width: 0;overflow: hidden;text-align: left;background-color: #f0f8ff;}#sk-container-id-44 div.sk-toggleable__content pre {margin: 0.2em;color: black;border-radius: 0.25em;background-color: #f0f8ff;}#sk-container-id-44 input.sk-toggleable__control:checked~div.sk-toggleable__content {max-height: 200px;max-width: 100%;overflow: auto;}#sk-container-id-44 input.sk-toggleable__control:checked~label.sk-toggleable__label-arrow:before {content: \"▾\";}#sk-container-id-44 div.sk-estimator input.sk-toggleable__control:checked~label.sk-toggleable__label {background-color: #d4ebff;}#sk-container-id-44 div.sk-label input.sk-toggleable__control:checked~label.sk-toggleable__label {background-color: #d4ebff;}#sk-container-id-44 input.sk-hidden--visually {border: 0;clip: rect(1px 1px 1px 1px);clip: rect(1px, 1px, 1px, 1px);height: 1px;margin: -1px;overflow: hidden;padding: 0;position: absolute;width: 1px;}#sk-container-id-44 div.sk-estimator {font-family: monospace;background-color: #f0f8ff;border: 1px dotted black;border-radius: 0.25em;box-sizing: border-box;margin-bottom: 0.5em;}#sk-container-id-44 div.sk-estimator:hover {background-color: #d4ebff;}#sk-container-id-44 div.sk-parallel-item::after {content: \"\";width: 100%;border-bottom: 1px solid gray;flex-grow: 1;}#sk-container-id-44 div.sk-label:hover label.sk-toggleable__label {background-color: #d4ebff;}#sk-container-id-44 div.sk-serial::before {content: \"\";position: absolute;border-left: 1px solid gray;box-sizing: border-box;top: 0;bottom: 0;left: 50%;z-index: 0;}#sk-container-id-44 div.sk-serial {display: flex;flex-direction: column;align-items: center;background-color: white;padding-right: 0.2em;padding-left: 0.2em;position: relative;}#sk-container-id-44 div.sk-item {position: relative;z-index: 1;}#sk-container-id-44 div.sk-parallel {display: flex;align-items: stretch;justify-content: center;background-color: white;position: relative;}#sk-container-id-44 div.sk-item::before, #sk-container-id-44 div.sk-parallel-item::before {content: \"\";position: absolute;border-left: 1px solid gray;box-sizing: border-box;top: 0;bottom: 0;left: 50%;z-index: -1;}#sk-container-id-44 div.sk-parallel-item {display: flex;flex-direction: column;z-index: 1;position: relative;background-color: white;}#sk-container-id-44 div.sk-parallel-item:first-child::after {align-self: flex-end;width: 50%;}#sk-container-id-44 div.sk-parallel-item:last-child::after {align-self: flex-start;width: 50%;}#sk-container-id-44 div.sk-parallel-item:only-child::after {width: 0;}#sk-container-id-44 div.sk-dashed-wrapped {border: 1px dashed gray;margin: 0 0.4em 0.5em 0.4em;box-sizing: border-box;padding-bottom: 0.4em;background-color: white;}#sk-container-id-44 div.sk-label label {font-family: monospace;font-weight: bold;display: inline-block;line-height: 1.2em;}#sk-container-id-44 div.sk-label-container {text-align: center;}#sk-container-id-44 div.sk-container {/* jupyter's `normalize.less` sets `[hidden] { display: none; }` but bootstrap.min.css set `[hidden] { display: none !important; }` so we also need the `!important` here to be able to override the default hidden behavior on the sphinx rendered scikit-learn.org. See: https://github.com/scikit-learn/scikit-learn/issues/21755 */display: inline-block !important;position: relative;}#sk-container-id-44 div.sk-text-repr-fallback {display: none;}</style><div id=\"sk-container-id-44\" class=\"sk-top-container\"><div class=\"sk-text-repr-fallback\"><pre>RandomForestClassifier(criterion=&#x27;entropy&#x27;, max_features=&#x27;log2&#x27;,\n",
       "                       min_samples_leaf=2, min_samples_split=5,\n",
       "                       n_estimators=200, random_state=32)</pre><b>In a Jupyter environment, please rerun this cell to show the HTML representation or trust the notebook. <br />On GitHub, the HTML representation is unable to render, please try loading this page with nbviewer.org.</b></div><div class=\"sk-container\" hidden><div class=\"sk-item\"><div class=\"sk-estimator sk-toggleable\"><input class=\"sk-toggleable__control sk-hidden--visually\" id=\"sk-estimator-id-44\" type=\"checkbox\" checked><label for=\"sk-estimator-id-44\" class=\"sk-toggleable__label sk-toggleable__label-arrow\">RandomForestClassifier</label><div class=\"sk-toggleable__content\"><pre>RandomForestClassifier(criterion=&#x27;entropy&#x27;, max_features=&#x27;log2&#x27;,\n",
       "                       min_samples_leaf=2, min_samples_split=5,\n",
       "                       n_estimators=200, random_state=32)</pre></div></div></div></div></div>"
      ],
      "text/plain": [
       "RandomForestClassifier(criterion='entropy', max_features='log2',\n",
       "                       min_samples_leaf=2, min_samples_split=5,\n",
       "                       n_estimators=200, random_state=32)"
      ]
     },
     "execution_count": 508,
     "metadata": {},
     "output_type": "execute_result"
    }
   ],
   "source": [
    "param_grid = {\n",
    "    'n_estimators': [10, 20, 50, 100, 200],\n",
    "    'criterion': ['gini', 'entropy', 'log_loss'],\n",
    "    'max_depth': [None, 5, 10],\n",
    "    'min_samples_split': [2, 5],\n",
    "    'min_samples_leaf': [1, 2, 4],\n",
    "    'max_features': ['log2', 'sqrt']\n",
    "}\n",
    "\n",
    "rf_classifier = RandomForestClassifier(random_state=32)\n",
    "\n",
    "grid_search = GridSearchCV(estimator=rf_classifier, param_grid=param_grid, cv=5, scoring='accuracy')\n",
    "grid_search.fit(X_train_men, y_train_men)\n",
    "\n",
    "best_params = grid_search.best_params_\n",
    "print(\"Best parameters:\", best_params)\n",
    "\n",
    "best_rf_classifier = RandomForestClassifier(**best_params, random_state=32)\n",
    "\n",
    "best_rf_classifier.fit(X_train_men, y_train_men)"
   ]
  },
  {
   "cell_type": "code",
   "execution_count": 559,
   "metadata": {},
   "outputs": [
    {
     "name": "stdout",
     "output_type": "stream",
     "text": [
      "Feature tr21: 0.1966141759380472\n",
      "Feature tr6: 0.14758893816816326\n",
      "Feature tr34: 0.1113516545033256\n",
      "Feature tr40: 0.09639477739873482\n",
      "Feature tr14: 0.0691854056207095\n",
      "Feature tr15: 0.05882003565200915\n",
      "Feature tr19: 0.047988506704041985\n",
      "Feature tr18: 0.04026587800308249\n",
      "Feature tr35: 0.03871963262907963\n",
      "Feature tr28: 0.03650766151695192\n",
      "Feature tr29: 0.031585435617194665\n",
      "Feature tr4: 0.02702585795426328\n",
      "Feature tr8: 0.0254229594919308\n",
      "Feature tr9: 0.022236190761825134\n",
      "Feature tr13: 0.02127799707839991\n",
      "Feature tr11: 0.015197961428241227\n",
      "Feature tr20: 0.013816931533999438\n"
     ]
    }
   ],
   "source": [
    "feature_importances = best_rf_classifier.feature_importances_\n",
    "for importance, feature in sorted(zip(feature_importances, X_train_men.columns), reverse=True):\n",
    "    print(f\"Feature {feature}: {importance}\")"
   ]
  },
  {
   "cell_type": "code",
   "execution_count": 509,
   "metadata": {},
   "outputs": [
    {
     "name": "stdout",
     "output_type": "stream",
     "text": [
      "accuracy: 0.9512195121951219\n",
      "precision: 0.95\n",
      "recall: 0.95\n",
      "f1: 0.9500000000000001\n",
      "roc_auc: 0.9511904761904761\n"
     ]
    }
   ],
   "source": [
    "y_pred_men = best_rf_classifier.predict(X_val_men)\n",
    "\n",
    "# compute evaluation metrics\n",
    "accuracy = accuracy_score(y_val_men, y_pred_men)\n",
    "precision = precision_score(y_val_men, y_pred_men)\n",
    "recall = recall_score(y_val_men, y_pred_men)\n",
    "f1 = f1_score(y_val_men, y_pred_men)\n",
    "roc_auc = roc_auc_score(y_val_men, y_pred_men)\n",
    "\n",
    "print(f'accuracy: {accuracy}')\n",
    "print(f'precision: {precision}')\n",
    "print(f'recall: {recall}')\n",
    "print(f'f1: {f1}')\n",
    "print(f'roc_auc: {roc_auc}')"
   ]
  },
  {
   "cell_type": "code",
   "execution_count": 510,
   "metadata": {},
   "outputs": [
    {
     "data": {
      "text/plain": [
       "<sklearn.metrics._plot.confusion_matrix.ConfusionMatrixDisplay at 0x7fcf0c99b4f0>"
      ]
     },
     "execution_count": 510,
     "metadata": {},
     "output_type": "execute_result"
    },
    {
     "data": {
      "image/png": "[encoded data removed]",
      "text/plain": [
       "<Figure size 432x288 with 2 Axes>"
      ]
     },
     "metadata": {
      "needs_background": "light"
     },
     "output_type": "display_data"
    }
   ],
   "source": [
    "conf_matrix = confusion_matrix(y_val_men, y_pred_men)\n",
    "disp = ConfusionMatrixDisplay(conf_matrix, display_labels=best_rf_classifier.classes_)\n",
    "disp.plot(cmap='Blues')"
   ]
  },
  {
   "cell_type": "markdown",
   "metadata": {},
   "source": [
    "<h3>k-Nearest Neighbours (KNN)</h3>\n",
    "<p>\n",
    "KNN is a non-parametric and instance-based learning algorithm that stores all available cases and classifies new cases based on a similarity measure (e.g., distance functions).\n",
    "\n",
    "It works best with numerical input features. Feature scaling is essential as it's based on computing distances between data points. Categorical variables may need to be encoded.\n",
    "\n",
    "KNN outputs class labels for classification tasks based on the majority class among the k-nearest neighbors of the new instance.\n",
    "</p>"
   ]
  },
  {
   "cell_type": "markdown",
   "metadata": {},
   "source": [
    "<h5>k-Nearest Neighbours (KNN) for Women</h5>"
   ]
  },
  {
   "cell_type": "code",
   "execution_count": 511,
   "metadata": {},
   "outputs": [
    {
     "name": "stdout",
     "output_type": "stream",
     "text": [
      "Best parameters: {'metric': 'euclidean', 'n_neighbors': 9, 'weights': 'uniform'}\n"
     ]
    },
    {
     "data": {
      "text/html": [
       "<style>#sk-container-id-45 {color: black;}#sk-container-id-45 pre{padding: 0;}#sk-container-id-45 div.sk-toggleable {background-color: white;}#sk-container-id-45 label.sk-toggleable__label {cursor: pointer;display: block;width: 100%;margin-bottom: 0;padding: 0.3em;box-sizing: border-box;text-align: center;}#sk-container-id-45 label.sk-toggleable__label-arrow:before {content: \"▸\";float: left;margin-right: 0.25em;color: #696969;}#sk-container-id-45 label.sk-toggleable__label-arrow:hover:before {color: black;}#sk-container-id-45 div.sk-estimator:hover label.sk-toggleable__label-arrow:before {color: black;}#sk-container-id-45 div.sk-toggleable__content {max-height: 0;max-width: 0;overflow: hidden;text-align: left;background-color: #f0f8ff;}#sk-container-id-45 div.sk-toggleable__content pre {margin: 0.2em;color: black;border-radius: 0.25em;background-color: #f0f8ff;}#sk-container-id-45 input.sk-toggleable__control:checked~div.sk-toggleable__content {max-height: 200px;max-width: 100%;overflow: auto;}#sk-container-id-45 input.sk-toggleable__control:checked~label.sk-toggleable__label-arrow:before {content: \"▾\";}#sk-container-id-45 div.sk-estimator input.sk-toggleable__control:checked~label.sk-toggleable__label {background-color: #d4ebff;}#sk-container-id-45 div.sk-label input.sk-toggleable__control:checked~label.sk-toggleable__label {background-color: #d4ebff;}#sk-container-id-45 input.sk-hidden--visually {border: 0;clip: rect(1px 1px 1px 1px);clip: rect(1px, 1px, 1px, 1px);height: 1px;margin: -1px;overflow: hidden;padding: 0;position: absolute;width: 1px;}#sk-container-id-45 div.sk-estimator {font-family: monospace;background-color: #f0f8ff;border: 1px dotted black;border-radius: 0.25em;box-sizing: border-box;margin-bottom: 0.5em;}#sk-container-id-45 div.sk-estimator:hover {background-color: #d4ebff;}#sk-container-id-45 div.sk-parallel-item::after {content: \"\";width: 100%;border-bottom: 1px solid gray;flex-grow: 1;}#sk-container-id-45 div.sk-label:hover label.sk-toggleable__label {background-color: #d4ebff;}#sk-container-id-45 div.sk-serial::before {content: \"\";position: absolute;border-left: 1px solid gray;box-sizing: border-box;top: 0;bottom: 0;left: 50%;z-index: 0;}#sk-container-id-45 div.sk-serial {display: flex;flex-direction: column;align-items: center;background-color: white;padding-right: 0.2em;padding-left: 0.2em;position: relative;}#sk-container-id-45 div.sk-item {position: relative;z-index: 1;}#sk-container-id-45 div.sk-parallel {display: flex;align-items: stretch;justify-content: center;background-color: white;position: relative;}#sk-container-id-45 div.sk-item::before, #sk-container-id-45 div.sk-parallel-item::before {content: \"\";position: absolute;border-left: 1px solid gray;box-sizing: border-box;top: 0;bottom: 0;left: 50%;z-index: -1;}#sk-container-id-45 div.sk-parallel-item {display: flex;flex-direction: column;z-index: 1;position: relative;background-color: white;}#sk-container-id-45 div.sk-parallel-item:first-child::after {align-self: flex-end;width: 50%;}#sk-container-id-45 div.sk-parallel-item:last-child::after {align-self: flex-start;width: 50%;}#sk-container-id-45 div.sk-parallel-item:only-child::after {width: 0;}#sk-container-id-45 div.sk-dashed-wrapped {border: 1px dashed gray;margin: 0 0.4em 0.5em 0.4em;box-sizing: border-box;padding-bottom: 0.4em;background-color: white;}#sk-container-id-45 div.sk-label label {font-family: monospace;font-weight: bold;display: inline-block;line-height: 1.2em;}#sk-container-id-45 div.sk-label-container {text-align: center;}#sk-container-id-45 div.sk-container {/* jupyter's `normalize.less` sets `[hidden] { display: none; }` but bootstrap.min.css set `[hidden] { display: none !important; }` so we also need the `!important` here to be able to override the default hidden behavior on the sphinx rendered scikit-learn.org. See: https://github.com/scikit-learn/scikit-learn/issues/21755 */display: inline-block !important;position: relative;}#sk-container-id-45 div.sk-text-repr-fallback {display: none;}</style><div id=\"sk-container-id-45\" class=\"sk-top-container\"><div class=\"sk-text-repr-fallback\"><pre>KNeighborsClassifier(metric=&#x27;euclidean&#x27;, n_neighbors=9)</pre><b>In a Jupyter environment, please rerun this cell to show the HTML representation or trust the notebook. <br />On GitHub, the HTML representation is unable to render, please try loading this page with nbviewer.org.</b></div><div class=\"sk-container\" hidden><div class=\"sk-item\"><div class=\"sk-estimator sk-toggleable\"><input class=\"sk-toggleable__control sk-hidden--visually\" id=\"sk-estimator-id-45\" type=\"checkbox\" checked><label for=\"sk-estimator-id-45\" class=\"sk-toggleable__label sk-toggleable__label-arrow\">KNeighborsClassifier</label><div class=\"sk-toggleable__content\"><pre>KNeighborsClassifier(metric=&#x27;euclidean&#x27;, n_neighbors=9)</pre></div></div></div></div></div>"
      ],
      "text/plain": [
       "KNeighborsClassifier(metric='euclidean', n_neighbors=9)"
      ]
     },
     "execution_count": 511,
     "metadata": {},
     "output_type": "execute_result"
    }
   ],
   "source": [
    "param_grid = {\n",
    "    'n_neighbors': [3, 5, 7, 9],     \n",
    "    'weights': ['uniform', 'distance'],\n",
    "    'metric': ['euclidean', 'manhattan']\n",
    "}\n",
    "\n",
    "knn_classifier = KNeighborsClassifier()\n",
    "\n",
    "grid_search = GridSearchCV(estimator=knn_classifier, param_grid=param_grid, cv=5, scoring='accuracy')\n",
    "grid_search.fit(X_train_women, y_train_women)\n",
    "\n",
    "best_params = grid_search.best_params_\n",
    "print(\"Best parameters:\", best_params)\n",
    "\n",
    "best_knn_classifier = KNeighborsClassifier(**best_params)\n",
    "\n",
    "best_knn_classifier.fit(X_train_women, y_train_women)"
   ]
  },
  {
   "cell_type": "code",
   "execution_count": 512,
   "metadata": {},
   "outputs": [
    {
     "name": "stdout",
     "output_type": "stream",
     "text": [
      "accuracy: 0.8\n",
      "precision: 0.7619047619047619\n",
      "recall: 0.8421052631578947\n",
      "f1: 0.8\n",
      "roc_auc: 0.8020050125313283\n"
     ]
    }
   ],
   "source": [
    "y_pred_women = best_knn_classifier.predict(X_val_women)\n",
    "\n",
    "# compute evaluation metrics\n",
    "accuracy = accuracy_score(y_val_women, y_pred_women)\n",
    "precision = precision_score(y_val_women, y_pred_women)\n",
    "recall = recall_score(y_val_women, y_pred_women)\n",
    "f1 = f1_score(y_val_women, y_pred_women)\n",
    "roc_auc = roc_auc_score(y_val_women, y_pred_women)\n",
    "\n",
    "print(f'accuracy: {accuracy}')\n",
    "print(f'precision: {precision}')\n",
    "print(f'recall: {recall}')\n",
    "print(f'f1: {f1}')\n",
    "print(f'roc_auc: {roc_auc}')"
   ]
  },
  {
   "cell_type": "code",
   "execution_count": 513,
   "metadata": {},
   "outputs": [
    {
     "data": {
      "text/plain": [
       "<sklearn.metrics._plot.confusion_matrix.ConfusionMatrixDisplay at 0x7fcf0cddea90>"
      ]
     },
     "execution_count": 513,
     "metadata": {},
     "output_type": "execute_result"
    },
    {
     "data": {
      "image/png": "[encoded data removed]",
      "text/plain": [
       "<Figure size 432x288 with 2 Axes>"
      ]
     },
     "metadata": {
      "needs_background": "light"
     },
     "output_type": "display_data"
    }
   ],
   "source": [
    "conf_matrix = confusion_matrix(y_val_women, y_pred_women)\n",
    "disp = ConfusionMatrixDisplay(conf_matrix, display_labels=best_rf_classifier.classes_)\n",
    "disp.plot(cmap='Blues')"
   ]
  },
  {
   "cell_type": "markdown",
   "metadata": {},
   "source": [
    "<h5>k-Nearest Neighbours (KNN) for Men</h5>"
   ]
  },
  {
   "cell_type": "code",
   "execution_count": 514,
   "metadata": {},
   "outputs": [
    {
     "name": "stdout",
     "output_type": "stream",
     "text": [
      "Best parameters: {'metric': 'manhattan', 'n_neighbors': 3, 'weights': 'distance'}\n"
     ]
    },
    {
     "data": {
      "text/html": [
       "<style>#sk-container-id-46 {color: black;}#sk-container-id-46 pre{padding: 0;}#sk-container-id-46 div.sk-toggleable {background-color: white;}#sk-container-id-46 label.sk-toggleable__label {cursor: pointer;display: block;width: 100%;margin-bottom: 0;padding: 0.3em;box-sizing: border-box;text-align: center;}#sk-container-id-46 label.sk-toggleable__label-arrow:before {content: \"▸\";float: left;margin-right: 0.25em;color: #696969;}#sk-container-id-46 label.sk-toggleable__label-arrow:hover:before {color: black;}#sk-container-id-46 div.sk-estimator:hover label.sk-toggleable__label-arrow:before {color: black;}#sk-container-id-46 div.sk-toggleable__content {max-height: 0;max-width: 0;overflow: hidden;text-align: left;background-color: #f0f8ff;}#sk-container-id-46 div.sk-toggleable__content pre {margin: 0.2em;color: black;border-radius: 0.25em;background-color: #f0f8ff;}#sk-container-id-46 input.sk-toggleable__control:checked~div.sk-toggleable__content {max-height: 200px;max-width: 100%;overflow: auto;}#sk-container-id-46 input.sk-toggleable__control:checked~label.sk-toggleable__label-arrow:before {content: \"▾\";}#sk-container-id-46 div.sk-estimator input.sk-toggleable__control:checked~label.sk-toggleable__label {background-color: #d4ebff;}#sk-container-id-46 div.sk-label input.sk-toggleable__control:checked~label.sk-toggleable__label {background-color: #d4ebff;}#sk-container-id-46 input.sk-hidden--visually {border: 0;clip: rect(1px 1px 1px 1px);clip: rect(1px, 1px, 1px, 1px);height: 1px;margin: -1px;overflow: hidden;padding: 0;position: absolute;width: 1px;}#sk-container-id-46 div.sk-estimator {font-family: monospace;background-color: #f0f8ff;border: 1px dotted black;border-radius: 0.25em;box-sizing: border-box;margin-bottom: 0.5em;}#sk-container-id-46 div.sk-estimator:hover {background-color: #d4ebff;}#sk-container-id-46 div.sk-parallel-item::after {content: \"\";width: 100%;border-bottom: 1px solid gray;flex-grow: 1;}#sk-container-id-46 div.sk-label:hover label.sk-toggleable__label {background-color: #d4ebff;}#sk-container-id-46 div.sk-serial::before {content: \"\";position: absolute;border-left: 1px solid gray;box-sizing: border-box;top: 0;bottom: 0;left: 50%;z-index: 0;}#sk-container-id-46 div.sk-serial {display: flex;flex-direction: column;align-items: center;background-color: white;padding-right: 0.2em;padding-left: 0.2em;position: relative;}#sk-container-id-46 div.sk-item {position: relative;z-index: 1;}#sk-container-id-46 div.sk-parallel {display: flex;align-items: stretch;justify-content: center;background-color: white;position: relative;}#sk-container-id-46 div.sk-item::before, #sk-container-id-46 div.sk-parallel-item::before {content: \"\";position: absolute;border-left: 1px solid gray;box-sizing: border-box;top: 0;bottom: 0;left: 50%;z-index: -1;}#sk-container-id-46 div.sk-parallel-item {display: flex;flex-direction: column;z-index: 1;position: relative;background-color: white;}#sk-container-id-46 div.sk-parallel-item:first-child::after {align-self: flex-end;width: 50%;}#sk-container-id-46 div.sk-parallel-item:last-child::after {align-self: flex-start;width: 50%;}#sk-container-id-46 div.sk-parallel-item:only-child::after {width: 0;}#sk-container-id-46 div.sk-dashed-wrapped {border: 1px dashed gray;margin: 0 0.4em 0.5em 0.4em;box-sizing: border-box;padding-bottom: 0.4em;background-color: white;}#sk-container-id-46 div.sk-label label {font-family: monospace;font-weight: bold;display: inline-block;line-height: 1.2em;}#sk-container-id-46 div.sk-label-container {text-align: center;}#sk-container-id-46 div.sk-container {/* jupyter's `normalize.less` sets `[hidden] { display: none; }` but bootstrap.min.css set `[hidden] { display: none !important; }` so we also need the `!important` here to be able to override the default hidden behavior on the sphinx rendered scikit-learn.org. See: https://github.com/scikit-learn/scikit-learn/issues/21755 */display: inline-block !important;position: relative;}#sk-container-id-46 div.sk-text-repr-fallback {display: none;}</style><div id=\"sk-container-id-46\" class=\"sk-top-container\"><div class=\"sk-text-repr-fallback\"><pre>KNeighborsClassifier(metric=&#x27;manhattan&#x27;, n_neighbors=3, weights=&#x27;distance&#x27;)</pre><b>In a Jupyter environment, please rerun this cell to show the HTML representation or trust the notebook. <br />On GitHub, the HTML representation is unable to render, please try loading this page with nbviewer.org.</b></div><div class=\"sk-container\" hidden><div class=\"sk-item\"><div class=\"sk-estimator sk-toggleable\"><input class=\"sk-toggleable__control sk-hidden--visually\" id=\"sk-estimator-id-46\" type=\"checkbox\" checked><label for=\"sk-estimator-id-46\" class=\"sk-toggleable__label sk-toggleable__label-arrow\">KNeighborsClassifier</label><div class=\"sk-toggleable__content\"><pre>KNeighborsClassifier(metric=&#x27;manhattan&#x27;, n_neighbors=3, weights=&#x27;distance&#x27;)</pre></div></div></div></div></div>"
      ],
      "text/plain": [
       "KNeighborsClassifier(metric='manhattan', n_neighbors=3, weights='distance')"
      ]
     },
     "execution_count": 514,
     "metadata": {},
     "output_type": "execute_result"
    }
   ],
   "source": [
    "param_grid = {\n",
    "    'n_neighbors': [3, 5, 7, 9],     \n",
    "    'weights': ['uniform', 'distance'],\n",
    "    'metric': ['euclidean', 'manhattan']\n",
    "}\n",
    "\n",
    "knn_classifier = KNeighborsClassifier()\n",
    "\n",
    "grid_search = GridSearchCV(estimator=knn_classifier, param_grid=param_grid, cv=5, scoring='accuracy')\n",
    "grid_search.fit(X_train_men, y_train_men)\n",
    "\n",
    "best_params = grid_search.best_params_\n",
    "print(\"Best parameters:\", best_params)\n",
    "\n",
    "best_knn_classifier = KNeighborsClassifier(**best_params)\n",
    "\n",
    "best_knn_classifier.fit(X_train_men, y_train_men)"
   ]
  },
  {
   "cell_type": "code",
   "execution_count": 515,
   "metadata": {},
   "outputs": [
    {
     "name": "stdout",
     "output_type": "stream",
     "text": [
      "accuracy: 0.9512195121951219\n",
      "precision: 0.95\n",
      "recall: 0.95\n",
      "f1: 0.9500000000000001\n",
      "roc_auc: 0.9511904761904761\n"
     ]
    }
   ],
   "source": [
    "y_pred_men = best_rf_classifier.predict(X_val_men)\n",
    "\n",
    "# compute evaluation metrics\n",
    "accuracy = accuracy_score(y_val_men, y_pred_men)\n",
    "precision = precision_score(y_val_men, y_pred_men)\n",
    "recall = recall_score(y_val_men, y_pred_men)\n",
    "f1 = f1_score(y_val_men, y_pred_men)\n",
    "roc_auc = roc_auc_score(y_val_men, y_pred_men)\n",
    "\n",
    "print(f'accuracy: {accuracy}')\n",
    "print(f'precision: {precision}')\n",
    "print(f'recall: {recall}')\n",
    "print(f'f1: {f1}')\n",
    "print(f'roc_auc: {roc_auc}')"
   ]
  },
  {
   "cell_type": "code",
   "execution_count": 516,
   "metadata": {},
   "outputs": [
    {
     "data": {
      "text/plain": [
       "<sklearn.metrics._plot.confusion_matrix.ConfusionMatrixDisplay at 0x7fcf0d949eb0>"
      ]
     },
     "execution_count": 516,
     "metadata": {},
     "output_type": "execute_result"
    },
    {
     "data": {
      "image/png": "[encoded data removed]",
      "text/plain": [
       "<Figure size 432x288 with 2 Axes>"
      ]
     },
     "metadata": {
      "needs_background": "light"
     },
     "output_type": "display_data"
    }
   ],
   "source": [
    "conf_matrix = confusion_matrix(y_val_men, y_pred_men)\n",
    "disp = ConfusionMatrixDisplay(conf_matrix, display_labels=best_rf_classifier.classes_)\n",
    "disp.plot(cmap='Blues')"
   ]
  },
  {
   "cell_type": "markdown",
   "metadata": {},
   "source": [
    "<h1>ANYTHING BELOW IS WORK IN PROGRESS</h1>"
   ]
  }
 ],
 "metadata": {
  "kernelspec": {
   "display_name": "base",
   "language": "python",
   "name": "python3"
  },
  "language_info": {
   "codemirror_mode": {
    "name": "ipython",
    "version": 3
   },
   "file_extension": ".py",
   "mimetype": "text/x-python",
   "name": "python",
   "nbconvert_exporter": "python",
   "pygments_lexer": "ipython3",
   "version": "3.8.8"
  }
 },
 "nbformat": 4,
 "nbformat_minor": 2
}
